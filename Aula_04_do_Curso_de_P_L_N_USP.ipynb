{
  "nbformat": 4,
  "nbformat_minor": 0,
  "metadata": {
    "colab": {
      "name": "Aula 04 do Curso de P.L.N USP.ipynb",
      "provenance": [],
      "authorship_tag": "ABX9TyNozPa98zPz0TTSSF2ZKo9/",
      "include_colab_link": true
    },
    "kernelspec": {
      "name": "python3",
      "display_name": "Python 3"
    },
    "language_info": {
      "name": "python"
    }
  },
  "cells": [
    {
      "cell_type": "markdown",
      "metadata": {
        "id": "view-in-github",
        "colab_type": "text"
      },
      "source": [
        "<a href=\"https://colab.research.google.com/github/HugocamposL3/PLN-PROCESSAMENTO-DE-LINGUAGEM-NATURAL/blob/main/Aula_04_do_Curso_de_P_L_N_USP.ipynb\" target=\"_parent\"><img src=\"https://colab.research.google.com/assets/colab-badge.svg\" alt=\"Open In Colab\"/></a>"
      ]
    },
    {
      "cell_type": "code",
      "metadata": {
        "id": "H2gHWwit7hx4"
      },
      "source": [
        "import nltk \n",
        "nltk.download()"
      ],
      "execution_count": null,
      "outputs": []
    },
    {
      "cell_type": "code",
      "metadata": {
        "id": "WL2l6w7ByN08"
      },
      "source": [
        "nltk.corpus.mac_morpho.words() # Mostras as palvras dentro do mac morpho"
      ],
      "execution_count": null,
      "outputs": []
    },
    {
      "cell_type": "code",
      "metadata": {
        "id": "41YovRdGy_lF"
      },
      "source": [
        "len(nltk.corpus.mac_morpho.words()) ## Numero de tokens que tem dentro desse corpus mac-morpho "
      ],
      "execution_count": null,
      "outputs": []
    },
    {
      "cell_type": "code",
      "metadata": {
        "id": "2nVosm2jzHFB"
      },
      "source": [
        "nltk.corpus.mac_morpho.sents()[0]"
      ],
      "execution_count": null,
      "outputs": []
    },
    {
      "cell_type": "code",
      "metadata": {
        "id": "AWaW74uMz6tF"
      },
      "source": [
        "nltk.corpus.mac_morpho.tagged_words()"
      ],
      "execution_count": null,
      "outputs": []
    },
    {
      "cell_type": "code",
      "metadata": {
        "id": "_y9gIusL0Xcy"
      },
      "source": [
        "nltk.corpus.mac_morpho.tagged_sents() #Mostrando a classe gramatical"
      ],
      "execution_count": null,
      "outputs": []
    },
    {
      "cell_type": "markdown",
      "metadata": {
        "id": "dv8wYiqih6hv"
      },
      "source": [
        "##Tokenizar: Tokenizar é a mesma coisa que separar a palvras do texto (split)."
      ]
    },
    {
      "cell_type": "code",
      "metadata": {
        "id": "jXi6IMi7h9Ah"
      },
      "source": [
        "import nltk\n",
        "nltk.word_tokenize(\"Com um passe de Eli Manning para Plaxico Burress a 39 segundos do fim, o New York Giants anotou o touchdown decisivo e derrubou o favorito New England Patriots por 17 a 14 neste domingo, em Glendale, no Super Bowl XLII. O resultado, uma das maiores zebras da história do Super Bowl, acabou com a temporada perfeita de Tom Brady e companhia, que esperavam fazer história ao levantar o troféu da NFL sem sofrer uma derrota no ano. A vitória dos Giants, porém, também ficará para a história.\")"
      ],
      "execution_count": null,
      "outputs": []
    },
    {
      "cell_type": "code",
      "metadata": {
        "id": "PW5OeHC5jTXy"
      },
      "source": [
        "texto = \"Hugo Lara Campos e Irineu Lara Campos e Gabriel Lara Campos\"\n",
        "nltk.word_tokenize(texto)"
      ],
      "execution_count": null,
      "outputs": []
    },
    {
      "cell_type": "markdown",
      "metadata": {
        "id": "B4z-54a5jxIs"
      },
      "source": [
        "## Expressões Regulares - Tokenizar sem retorno de pontuações"
      ]
    },
    {
      "cell_type": "code",
      "metadata": {
        "colab": {
          "base_uri": "https://localhost:8080/"
        },
        "id": "0iEp3RNEj5lf",
        "outputId": "66af2910-79a9-4841-af57-50654cfe1fc1"
      },
      "source": [
        "from nltk.tokenize import RegexpTokenizer ##\n",
        "texto2 = ('na primeira jogada, Manning achou o tight end Kevin Boss, para um incrível avanço de 45 jardas,')\n",
        "tokenizer = RegexpTokenizer(r'\\w+') ## Recebe uma expressão regular que retorna um padrão de token '\\w+' significa que retorna qualquer caracter\n",
        "tokens = tokenizer.tokenize(texto2)\n",
        "print(tokens)"
      ],
      "execution_count": null,
      "outputs": [
        {
          "output_type": "stream",
          "name": "stdout",
          "text": [
            "['na', 'primeira', 'jogada', 'Manning', 'achou', 'o', 'tight', 'end', 'Kevin', 'Boss', 'para', 'um', 'incrível', 'avanço', 'de', '45', 'jardas']\n"
          ]
        }
      ]
    },
    {
      "cell_type": "markdown",
      "metadata": {
        "id": "urpQzgCcmepj"
      },
      "source": [
        "## Expressões Regulares - Tokenizar sem retorno de numeros"
      ]
    },
    {
      "cell_type": "code",
      "metadata": {
        "colab": {
          "base_uri": "https://localhost:8080/"
        },
        "id": "yBU_0FZ4mmF0",
        "outputId": "c59cf40a-42d6-4fe9-a783-01088b7891f2"
      },
      "source": [
        "from nltk.tokenize import RegexpTokenizer ##\n",
        "texto2 = ('na primeira jogada, Manning achou o tight end Kevin Boss, para um incrível avanço de 45 jardas,')\n",
        "tokenizer = RegexpTokenizer(r'[a-zA-Z]\\w*') ## Recebe uma expressão regular que retorna um padrão de token '[a-zA-Z]\\w*' significa que retorna qualquer caracter menos numeros\n",
        "tokens = tokenizer.tokenize(texto2)\n",
        "print(tokens)"
      ],
      "execution_count": null,
      "outputs": [
        {
          "output_type": "stream",
          "name": "stdout",
          "text": [
            "['na', 'primeira', 'jogada', 'Manning', 'achou', 'o', 'tight', 'end', 'Kevin', 'Boss', 'para', 'um', 'incrível', 'avanço', 'de', 'jardas']\n"
          ]
        }
      ]
    },
    {
      "cell_type": "markdown",
      "metadata": {
        "id": "mlpGzUBZoZVw"
      },
      "source": [
        "##Frequencia e Contagem: Contando todos os tokens inclusive virgulas \n",
        "\n"
      ]
    },
    {
      "cell_type": "code",
      "metadata": {
        "colab": {
          "base_uri": "https://localhost:8080/"
        },
        "id": "Y9Nn0Njqpmem",
        "outputId": "95d9983b-ea40-4329-c33c-4165fb2bb011"
      },
      "source": [
        "tokens = nltk.word_tokenize(texto2)\n",
        "frequencia = nltk.FreqDist(tokens)\n",
        "print(frequencia.most_common(10))"
      ],
      "execution_count": null,
      "outputs": [
        {
          "output_type": "stream",
          "name": "stdout",
          "text": [
            "[(',', 3), ('na', 1), ('primeira', 1), ('jogada', 1), ('Manning', 1), ('achou', 1), ('o', 1), ('tight', 1), ('end', 1), ('Kevin', 1)]\n"
          ]
        }
      ]
    },
    {
      "cell_type": "markdown",
      "metadata": {
        "id": "IFVy5_VPqSFU"
      },
      "source": [
        "##Frequencia e Contagem: Contando todos os tokens sem virgulas e números\n"
      ]
    },
    {
      "cell_type": "code",
      "metadata": {
        "colab": {
          "base_uri": "https://localhost:8080/"
        },
        "id": "_plZwHAJodNw",
        "outputId": "53787cbd-2963-4224-b400-02ce2f5273a1"
      },
      "source": [
        "tokenizer = RegexpTokenizer(r'[a-zA-Z]\\w*') \n",
        "tokens = tokenizer.tokenize(texto2)\n",
        "frequencia = nltk.FreqDist(tokens)\n",
        "print(frequencia.most_common(10)) ## Imprimindo as dez palvras mais comuns do texto "
      ],
      "execution_count": null,
      "outputs": [
        {
          "output_type": "stream",
          "name": "stdout",
          "text": [
            "[('na', 1), ('primeira', 1), ('jogada', 1), ('Manning', 1), ('achou', 1), ('o', 1), ('tight', 1), ('end', 1), ('Kevin', 1), ('Boss', 1)]\n"
          ]
        }
      ]
    },
    {
      "cell_type": "markdown",
      "metadata": {
        "id": "l9DPf93prOtD"
      },
      "source": [
        "## Carregando o Córpus Teste Para a Aula"
      ]
    },
    {
      "cell_type": "code",
      "metadata": {
        "id": "vJtu9doprWKN"
      },
      "source": [
        "corpus = open(\"/content/corpus_teste.txt\").read()\n",
        "print(corpus)"
      ],
      "execution_count": null,
      "outputs": []
    },
    {
      "cell_type": "code",
      "metadata": {
        "colab": {
          "base_uri": "https://localhost:8080/"
        },
        "id": "Z0uXsJ_Wr2iX",
        "outputId": "fea3630e-46f1-42dc-e850-97cf9e6687d8"
      },
      "source": [
        "tokenizer = RegexpTokenizer(r'[a-zA-Z]\\w*') \n",
        "tokens = tokenizer.tokenize(corpus) ## Lendo o corpus carregado\n",
        "frequencia = nltk.FreqDist(tokens)\n",
        "print(frequencia.most_common(20)) ## Imprimindo as dez palvras mais comuns do texto "
      ],
      "execution_count": null,
      "outputs": [
        {
          "output_type": "stream",
          "name": "stdout",
          "text": [
            "[('de', 34), ('o', 26), ('a', 23), ('e', 21), ('para', 16), ('jardas', 15), ('do', 12), ('na', 12), ('Giants', 11), ('um', 11), ('os', 10), ('Patriots', 10), ('Manning', 10), ('uma', 10), ('linha', 10), ('com', 8), ('no', 7), ('O', 7), ('que', 7), ('dos', 7)]\n"
          ]
        }
      ]
    },
    {
      "cell_type": "markdown",
      "metadata": {
        "id": "vTFO-wkOsDdn"
      },
      "source": [
        "## Colocando todas as palavras em um padrão de maiuscula ou minusculas"
      ]
    },
    {
      "cell_type": "code",
      "metadata": {
        "colab": {
          "base_uri": "https://localhost:8080/"
        },
        "id": "nePSneprsSdg",
        "outputId": "b3143aac-0798-4cfe-f129-f5cd246571d9"
      },
      "source": [
        "## Transformando em Minuscula - Forma 1\n",
        "tokenizer = RegexpTokenizer(r'[a-zA-Z]\\w*') ## Limitando os tokens \n",
        "tokens = tokenizer.tokenize(corpus) ## Lendo o corpus carregado\n",
        "\n",
        "nova_lista = []\n",
        "\n",
        "for token in tokens:\n",
        "  nova_lista.append(token.lower()) ##LOWER\n",
        "frequencia = nltk.FreqDist(nova_lista)\n",
        "print(frequencia.most_common) ## Imprimindo as palvras mais comuns do texto \n",
        "## Com esse método de padronização a frequencia de palvras iguais foi maior "
      ],
      "execution_count": null,
      "outputs": [
        {
          "output_type": "stream",
          "name": "stdout",
          "text": [
            "<bound method Counter.most_common of FreqDist({'de': 34, 'o': 33, 'a': 28, 'e': 21, 'para': 16, 'jardas': 15, 'os': 13, 'com': 13, 'na': 13, 'do': 12, ...})>\n"
          ]
        }
      ]
    },
    {
      "cell_type": "code",
      "metadata": {
        "colab": {
          "base_uri": "https://localhost:8080/"
        },
        "id": "zwuRroZTvEax",
        "outputId": "c6f2925d-e60c-46a2-b4ab-0790555e86e1"
      },
      "source": [
        "## Transformando em Maiuscula - Forma 1\n",
        "tokenizer = RegexpTokenizer(r'[a-zA-Z]\\w*') ## Limitando os tokens \n",
        "tokens = tokenizer.tokenize(corpus) ## Lendo o corpus carregado\n",
        "\n",
        "nova_lista1 = []\n",
        "\n",
        "for token in tokens:\n",
        "  nova_lista1.append(token.upper()) ## UPPER\n",
        "frequencia = nltk.FreqDist(nova_lista1)\n",
        "print(frequencia.most_common) ## Imprimindo as palvras mais comuns do texto \n",
        "print(nova_lista1)\n",
        "## Com esse método de padronização a frequencia de palvras iguais foi maior "
      ],
      "execution_count": null,
      "outputs": [
        {
          "output_type": "stream",
          "name": "stdout",
          "text": [
            "<bound method Counter.most_common of FreqDist({'DE': 34, 'O': 33, 'A': 28, 'E': 21, 'PARA': 16, 'JARDAS': 15, 'OS': 13, 'COM': 13, 'NA': 13, 'DO': 12, ...})>\n",
            "['GIANTS', 'BATEM', 'OS', 'PATRIOTS', 'NO', 'SUPER', 'BOWL', 'XLII', 'AZARÕES', 'ACABAM', 'COM', 'A', 'INVENCIBILIDADE', 'DE', 'NEW', 'ENGLAND', 'E', 'FICAM', 'COM', 'O', 'TÍTULO', 'DA', 'TEMPORADA', 'H07M', 'ATUALIZADO', 'EM', 'H49M', 'COM', 'UM', 'PASSE', 'DE', 'ELI', 'MANNING', 'PARA', 'PLAXICO', 'BURRESS', 'A', 'SEGUNDOS', 'DO', 'FIM', 'O', 'NEW', 'YORK', 'GIANTS', 'ANOTOU', 'O', 'TOUCHDOWN', 'DECISIVO', 'E', 'DERRUBOU', 'O', 'FAVORITO', 'NEW', 'ENGLAND', 'PATRIOTS', 'POR', 'A', 'NESTE', 'DOMINGO', 'EM', 'GLENDALE', 'NO', 'SUPER', 'BOWL', 'XLII', 'O', 'RESULTADO', 'UMA', 'DAS', 'MAIORES', 'ZEBRAS', 'DA', 'HISTÓRIA', 'DO', 'SUPER', 'BOWL', 'ACABOU', 'COM', 'A', 'TEMPORADA', 'PERFEITA', 'DE', 'TOM', 'BRADY', 'E', 'COMPANHIA', 'QUE', 'ESPERAVAM', 'FAZER', 'HISTÓRIA', 'AO', 'LEVANTAR', 'O', 'TROFÉU', 'DA', 'NFL', 'SEM', 'SOFRER', 'UMA', 'DERROTA', 'NO', 'ANO', 'A', 'VITÓRIA', 'DOS', 'GIANTS', 'PORÉM', 'TAMBÉM', 'FICARÁ', 'PARA', 'A', 'HISTÓRIA', 'PELA', 'PRIMEIRA', 'VEZ', 'IRMÃOS', 'QUARTERBACKS', 'TRIUNFAM', 'NO', 'SUPER', 'BOWL', 'EM', 'TEMPORADAS', 'CONSECUTIVAS', 'NO', 'ANO', 'PASSADO', 'PEYTON', 'MANNING', 'IRMÃO', 'DE', 'ELI', 'CHEGOU', 'AO', 'TÍTULO', 'MÁXIMO', 'DA', 'NFL', 'PELO', 'INDIANAPOLIS', 'COLTS', 'A', 'PARTIDA', 'OS', 'GIANTS', 'COMEÇARAM', 'COM', 'A', 'POSSE', 'DE', 'BOLA', 'E', 'MOSTRARAM', 'LOGO', 'QUE', 'IRIAM', 'ALONGAR', 'AO', 'MÁXIMO', 'SUAS', 'POSSES', 'DE', 'BOLA', 'MISTURANDO', 'CORRIDAS', 'COM', 'BRANDON', 'JACOBS', 'E', 'PASSES', 'CURTOS', 'O', 'TIME', 'DE', 'NOVA', 'YORK', 'CHEGOU', 'RED', 'ZONE', 'LOGO', 'NA', 'PRIMEIRA', 'CAMPANHA', 'O', 'AVANÇO', 'NO', 'ENTANTO', 'PAROU', 'NA', 'LINHA', 'DE', 'JARDAS', 'E', 'LAWRENCE', 'TYNES', 'CONVERTEU', 'O', 'FIELD', 'GOAL', 'DE', 'JARDAS', 'PARA', 'ABRIR', 'O', 'PLACAR', 'ELI', 'MANNING', 'E', 'COMPANHIA', 'FICARAM', 'M54S', 'COM', 'A', 'BOLA', 'MAS', 'O', 'ATAQUE', 'DOS', 'PATRIOTS', 'NÃO', 'ENTROU', 'EM', 'CAMPO', 'FRIO', 'LOGO', 'NO', 'RETORNO', 'DO', 'KICKOFF', 'O', 'RUNNING', 'BACK', 'LAURENCE', 'MARONEY', 'AVANÇOU', 'JARDAS', 'DEIXANDO', 'TOM', 'BRADY', 'EM', 'BOA', 'POSIÇÃO', 'COM', 'PASSES', 'CURTOS', 'OS', 'PATRIOTS', 'CHEGARAM', 'LINHA', 'DE', 'JARDAS', 'E', 'GRAÇAS', 'A', 'UMA', 'PENALIDADE', 'INTERFERÊNCIA', 'DE', 'PASSE', 'DO', 'LINEBACKER', 'ANTONIO', 'PIERCE', 'ALCANÇARAM', 'A', 'LINHA', 'DE', 'UMA', 'JARDA', 'MARONEY', 'AVANÇOU', 'PELO', 'CHÃO', 'E', 'ANOTOU', 'O', 'PRIMEIRO', 'TOUCHDOWN', 'DO', 'JOGO', 'OS', 'GIANTS', 'PARECIAM', 'RUMO', 'VIRADA', 'NA', 'CAMPANHA', 'SEGUINTE', 'MANNING', 'ACHOU', 'AMANI', 'TOOMER', 'PARA', 'UM', 'AVANÇO', 'DE', 'JARDAS', 'E', 'O', 'TIME', 'DE', 'NOVA', 'YORK', 'ENTROU', 'NOVAMENTE', 'NA', 'RED', 'ZONE', 'COM', 'A', 'BOLA', 'NA', 'LINHA', 'DE', 'JARDAS', 'DOS', 'PATRIOTS', 'OS', 'GIANTS', 'SOFRERAM', 'UM', 'REVÉS', 'MANNING', 'PASSOU', 'PARA', 'STEVE', 'SMITH', 'QUE', 'SOLTOU', 'A', 'BOLA', 'ELLIS', 'HOBBS', 'APROVEITOU', 'TOMOU', 'A', 'POSSE', 'PARA', 'OS', 'PATRIOTS', 'E', 'AVANÇOU', 'JARDAS', 'A', 'DEFESA', 'DE', 'NOVA', 'YORK', 'MANTEVE', 'O', 'JOGO', 'EQUILIBRADO', 'COM', 'DOIS', 'SACKS', 'SEGUIDOS', 'OS', 'GIANTS', 'FORÇARAM', 'O', 'PUNT', 'E', 'RECUPERARAM', 'A', 'BOLA', 'MAS', 'A', 'CAMPANHA', 'SEGUINTE', 'PROVOU', 'SER', 'OUTRA', 'DECEPÇÃO', 'PARA', 'NOVA', 'YORK', 'O', 'TIME', 'CHEGOU', 'LINHA', 'DE', 'JARDAS', 'MAS', 'MANNING', 'SOFREU', 'UM', 'SACK', 'E', 'COMETEU', 'UM', 'FUMBLE', 'E', 'O', 'ATAQUE', 'VOLTOU', 'PARA', 'A', 'LINHA', 'DE', 'JARDAS', 'NÃO', 'CONSEGUINDO', 'PONTUAR', 'MAIS', 'UMA', 'VEZ', 'OS', 'PATRIOTS', 'TIVERAM', 'UMA', 'LTIMA', 'CHANCE', 'DE', 'MARCAR', 'ANTES', 'DO', 'INTERVALO', 'MAS', 'A', 'SEGUNDOS', 'DO', 'FIM', 'DO', 'SEGUNDO', 'PERÍODO', 'BRADY', 'FOI', 'NOVAMENTE', 'SACADO', 'DESTA', 'VEZ', 'ELE', 'COMETEU', 'O', 'FUMBLE', 'E', 'OS', 'GIANTS', 'TOMARAM', 'A', 'POSSE', 'DE', 'BOLA', 'MANNING', 'TENTOU', 'UM', 'PASSE', 'LONGO', 'DE', 'JARDAS', 'NOS', 'LTIMOS', 'SEGUNDOS', 'MAS', 'NÃO', 'TEVE', 'SUCESSO', 'O', 'JOGO', 'CONTINUOU', 'AMARRADO', 'NO', 'TERCEIRO', 'QUARTO', 'COM', 'AS', 'DEFESAS', 'LEVANDO', 'A', 'MELHOR', 'SOBRE', 'OS', 'ATAQUES', 'A', 'NICA', 'CHANCE', 'DE', 'PONTUAR', 'DO', 'PERÍODO', 'FOI', 'DOS', 'PATRIOTS', 'QUE', 'CHEGARAM', 'LINHA', 'DE', 'JARDAS', 'DOS', 'GIANTS', 'O', 'TÉCNICO', 'BILL', 'BELLICHICK', 'PORÉM', 'OPTOU', 'POR', 'UMA', 'QUARTA', 'DESCIDA', 'EM', 'VEZ', 'DE', 'UM', 'FIELD', 'GOAL', 'BRADY', 'TENTOU', 'UM', 'PASSE', 'PARA', 'JABAR', 'GAFFNEY', 'MAS', 'NÃO', 'CONSEGUIU', 'COMPLETAR', 'O', 'LTIMO', 'PERÍODO', 'COMEÇOU', 'ARRASADOR', 'PARA', 'OS', 'GIANTS', 'NA', 'PRIMEIRA', 'JOGADA', 'MANNING', 'ACHOU', 'O', 'TIGHT', 'END', 'KEVIN', 'BOSS', 'PARA', 'UM', 'INCRÍVEL', 'AVANÇO', 'DE', 'JARDAS', 'QUE', 'DEIXOU', 'O', 'TIME', 'NA', 'LINHA', 'DE', 'DOS', 'PATRIOTS', 'OUTRO', 'LANÇAMENTO', 'DESTA', 'VEZ', 'PARA', 'STEVE', 'SMITH', 'MARCOU', 'O', 'AVANÇO', 'ATÉ', 'A', 'LINHA', 'DE', 'JARDAS', 'DUAS', 'JOGADAS', 'DEPOIS', 'DAVID', 'TYREE', 'PEGOU', 'UM', 'PASSE', 'DE', 'CINCO', 'JARDAS', 'NA', 'END', 'ZONE', 'PARA', 'ANOTAR', 'O', 'TOUCHDOWN', 'E', 'VIRAR', 'O', 'JOGO', 'NA', 'HORA', 'DA', 'DECISÃO', 'O', 'ATAQUE', 'DOS', 'PATRIOTS', 'VOLTOU', 'A', 'FUNCIONAR', 'COM', 'UMA', 'SÉRIE', 'DE', 'PASSES', 'CURTOS', 'E', 'VARIADOS', 'BRADY', 'ACHOU', 'WES', 'WELKER', 'RANDY', 'MOSS', 'E', 'KEVIN', 'FAULK', 'SEGUIDAS', 'VEZES', 'ATÉ', 'CHEGAR', 'RED', 'ZONE', 'A', 'M45S', 'DO', 'FIM', 'O', 'QUARTERBACK', 'CONECTOU', 'MAIS', 'UMA', 'VEZ', 'COM', 'MOSS', 'QUE', 'SE', 'DESMARCOU', 'E', 'FICOU', 'LIVRE', 'NA', 'LATERAL', 'DIREITA', 'DA', 'END', 'ZONE', 'QUANDO', 'OS', 'FÃS', 'DE', 'NEW', 'ENGLAND', 'JÁ', 'COMEMORAVAM', 'A', 'VITÓRIA', 'O', 'INESPERADO', 'ACONTECEU', 'EM', 'UMA', 'JOGADA', 'INCRÍVEL', 'ELI', 'MANNING', 'SE', 'SOLTOU', 'DE', 'DOIS', 'MARCADORES', 'QUE', 'O', 'SEGURAVAM', 'PELA', 'CAMISA', 'E', 'NA', 'CORRIDA', 'LANÇOU', 'PARA', 'AMANI', 'TOOMER', 'O', 'WIDE', 'RECEIVER', 'BEM', 'MARCADO', 'SALTOU', 'E', 'CONSEGUIU', 'A', 'FAZER', 'RECEPÇÃO', 'PARA', 'UM', 'AVANÇO', 'DE', 'JARDAS', 'DEIXANDO', 'OS', 'GIANTS', 'NA', 'LINHA', 'DE', 'DE', 'NEW', 'ENGLAND', 'QUATRO', 'JOGADAS', 'DEPOIS', 'A', 'SEGUNDOS', 'DO', 'FIM', 'MANNING', 'ACHOU', 'PLAXICO', 'BURRESS', 'NA', 'END', 'ZONE', 'PARA', 'CONSEGUIR', 'O', 'TOUCHDOWN', 'DO', 'TÍTULO']\n"
          ]
        }
      ]
    },
    {
      "cell_type": "markdown",
      "metadata": {
        "id": "UGME2tSEvX5F"
      },
      "source": [
        "## Retirando as 'Stopwords' ou seja retirando palavras irrelevantes do meu córpus"
      ]
    },
    {
      "cell_type": "code",
      "metadata": {
        "id": "dgvv5sTfviE5"
      },
      "source": [
        "## Para consultar todas as palavras que são consideradas 'Stopwords' para o NLTK\n",
        "stopwords=nltk.corpus.stopwords.words('portuguese') \n"
      ],
      "execution_count": null,
      "outputs": []
    },
    {
      "cell_type": "code",
      "metadata": {
        "colab": {
          "base_uri": "https://localhost:8080/"
        },
        "id": "7_QIaQiwwfpi",
        "outputId": "3e310030-ad66-4398-dbbd-a61701772504"
      },
      "source": [
        "## Forma 1 de fazer isso:\n",
        "stopwords=nltk.corpus.stopwords.words('portuguese') \n",
        "tokenizer = RegexpTokenizer(r'[a-zA-Z]\\w*') ## Limitando os tokens \n",
        "tokens = tokenizer.tokenize(corpus) ## Lendo o corpus carregado\n",
        "\n",
        "nova_lista2 = []\n",
        "\n",
        "for token in tokens:\n",
        "  if token.lower() not in stopwords: ## Verificando se tem algum palavra na lista de stop wprds\n",
        "    nova_lista2.append(token.lower()) ##LOWER e APPEND adiciona um valor na sua lista \n",
        "print(nova_lista2)\n",
        "frequencia1 = nltk.FreqDist(nova_lista2)  \n",
        "print(frequencia1.most_common())"
      ],
      "execution_count": null,
      "outputs": [
        {
          "output_type": "stream",
          "name": "stdout",
          "text": [
            "['giants', 'batem', 'patriots', 'super', 'bowl', 'xlii', 'azarões', 'acabam', 'invencibilidade', 'new', 'england', 'ficam', 'título', 'temporada', 'h07m', 'atualizado', 'h49m', 'passe', 'eli', 'manning', 'plaxico', 'burress', 'segundos', 'fim', 'new', 'york', 'giants', 'anotou', 'touchdown', 'decisivo', 'derrubou', 'favorito', 'new', 'england', 'patriots', 'neste', 'domingo', 'glendale', 'super', 'bowl', 'xlii', 'resultado', 'maiores', 'zebras', 'história', 'super', 'bowl', 'acabou', 'temporada', 'perfeita', 'tom', 'brady', 'companhia', 'esperavam', 'fazer', 'história', 'levantar', 'troféu', 'nfl', 'sofrer', 'derrota', 'ano', 'vitória', 'giants', 'porém', 'ficará', 'história', 'primeira', 'vez', 'irmãos', 'quarterbacks', 'triunfam', 'super', 'bowl', 'temporadas', 'consecutivas', 'ano', 'passado', 'peyton', 'manning', 'irmão', 'eli', 'chegou', 'título', 'máximo', 'nfl', 'indianapolis', 'colts', 'partida', 'giants', 'começaram', 'posse', 'bola', 'mostraram', 'logo', 'iriam', 'alongar', 'máximo', 'posses', 'bola', 'misturando', 'corridas', 'brandon', 'jacobs', 'passes', 'curtos', 'time', 'nova', 'york', 'chegou', 'red', 'zone', 'logo', 'primeira', 'campanha', 'avanço', 'entanto', 'parou', 'linha', 'jardas', 'lawrence', 'tynes', 'converteu', 'field', 'goal', 'jardas', 'abrir', 'placar', 'eli', 'manning', 'companhia', 'ficaram', 'm54s', 'bola', 'ataque', 'patriots', 'entrou', 'campo', 'frio', 'logo', 'retorno', 'kickoff', 'running', 'back', 'laurence', 'maroney', 'avançou', 'jardas', 'deixando', 'tom', 'brady', 'boa', 'posição', 'passes', 'curtos', 'patriots', 'chegaram', 'linha', 'jardas', 'graças', 'penalidade', 'interferência', 'passe', 'linebacker', 'antonio', 'pierce', 'alcançaram', 'linha', 'jarda', 'maroney', 'avançou', 'chão', 'anotou', 'primeiro', 'touchdown', 'jogo', 'giants', 'pareciam', 'rumo', 'virada', 'campanha', 'seguinte', 'manning', 'achou', 'amani', 'toomer', 'avanço', 'jardas', 'time', 'nova', 'york', 'entrou', 'novamente', 'red', 'zone', 'bola', 'linha', 'jardas', 'patriots', 'giants', 'sofreram', 'revés', 'manning', 'passou', 'steve', 'smith', 'soltou', 'bola', 'ellis', 'hobbs', 'aproveitou', 'tomou', 'posse', 'patriots', 'avançou', 'jardas', 'defesa', 'nova', 'york', 'manteve', 'jogo', 'equilibrado', 'dois', 'sacks', 'seguidos', 'giants', 'forçaram', 'punt', 'recuperaram', 'bola', 'campanha', 'seguinte', 'provou', 'ser', 'outra', 'decepção', 'nova', 'york', 'time', 'chegou', 'linha', 'jardas', 'manning', 'sofreu', 'sack', 'cometeu', 'fumble', 'ataque', 'voltou', 'linha', 'jardas', 'conseguindo', 'pontuar', 'vez', 'patriots', 'ltima', 'chance', 'marcar', 'antes', 'intervalo', 'segundos', 'fim', 'segundo', 'período', 'brady', 'novamente', 'sacado', 'desta', 'vez', 'cometeu', 'fumble', 'giants', 'tomaram', 'posse', 'bola', 'manning', 'tentou', 'passe', 'longo', 'jardas', 'ltimos', 'segundos', 'sucesso', 'jogo', 'continuou', 'amarrado', 'terceiro', 'quarto', 'defesas', 'levando', 'melhor', 'sobre', 'ataques', 'nica', 'chance', 'pontuar', 'período', 'patriots', 'chegaram', 'linha', 'jardas', 'giants', 'técnico', 'bill', 'bellichick', 'porém', 'optou', 'quarta', 'descida', 'vez', 'field', 'goal', 'brady', 'tentou', 'passe', 'jabar', 'gaffney', 'conseguiu', 'completar', 'ltimo', 'período', 'começou', 'arrasador', 'giants', 'primeira', 'jogada', 'manning', 'achou', 'tight', 'end', 'kevin', 'boss', 'incrível', 'avanço', 'jardas', 'deixou', 'time', 'linha', 'patriots', 'outro', 'lançamento', 'desta', 'vez', 'steve', 'smith', 'marcou', 'avanço', 'linha', 'jardas', 'duas', 'jogadas', 'david', 'tyree', 'pegou', 'passe', 'cinco', 'jardas', 'end', 'zone', 'anotar', 'touchdown', 'virar', 'jogo', 'hora', 'decisão', 'ataque', 'patriots', 'voltou', 'funcionar', 'série', 'passes', 'curtos', 'variados', 'brady', 'achou', 'wes', 'welker', 'randy', 'moss', 'kevin', 'faulk', 'seguidas', 'vezes', 'chegar', 'red', 'zone', 'm45s', 'fim', 'quarterback', 'conectou', 'vez', 'moss', 'desmarcou', 'ficou', 'livre', 'lateral', 'direita', 'end', 'zone', 'fãs', 'new', 'england', 'comemoravam', 'vitória', 'inesperado', 'aconteceu', 'jogada', 'incrível', 'eli', 'manning', 'soltou', 'dois', 'marcadores', 'seguravam', 'camisa', 'corrida', 'lançou', 'amani', 'toomer', 'wide', 'receiver', 'bem', 'marcado', 'saltou', 'conseguiu', 'fazer', 'recepção', 'avanço', 'jardas', 'deixando', 'giants', 'linha', 'new', 'england', 'quatro', 'jogadas', 'segundos', 'fim', 'manning', 'achou', 'plaxico', 'burress', 'end', 'zone', 'conseguir', 'touchdown', 'título']\n",
            "[('jardas', 15), ('giants', 11), ('patriots', 10), ('manning', 10), ('linha', 10), ('bola', 7), ('vez', 6), ('zone', 6), ('new', 5), ('passe', 5), ('york', 5), ('brady', 5), ('avanço', 5), ('super', 4), ('bowl', 4), ('england', 4), ('eli', 4), ('segundos', 4), ('fim', 4), ('touchdown', 4), ('time', 4), ('nova', 4), ('jogo', 4), ('achou', 4), ('end', 4), ('título', 3), ('história', 3), ('primeira', 3), ('chegou', 3), ('posse', 3), ('logo', 3), ('passes', 3), ('curtos', 3), ('red', 3), ('campanha', 3), ('ataque', 3), ('avançou', 3), ('período', 3), ('xlii', 2), ('temporada', 2), ('plaxico', 2), ('burress', 2), ('anotou', 2), ('tom', 2), ('companhia', 2), ('fazer', 2), ('nfl', 2), ('ano', 2), ('vitória', 2), ('porém', 2), ('máximo', 2), ('field', 2), ('goal', 2), ('entrou', 2), ('maroney', 2), ('deixando', 2), ('chegaram', 2), ('seguinte', 2), ('amani', 2), ('toomer', 2), ('novamente', 2), ('steve', 2), ('smith', 2), ('soltou', 2), ('dois', 2), ('cometeu', 2), ('fumble', 2), ('voltou', 2), ('pontuar', 2), ('chance', 2), ('desta', 2), ('tentou', 2), ('conseguiu', 2), ('jogada', 2), ('kevin', 2), ('incrível', 2), ('jogadas', 2), ('moss', 2), ('batem', 1), ('azarões', 1), ('acabam', 1), ('invencibilidade', 1), ('ficam', 1), ('h07m', 1), ('atualizado', 1), ('h49m', 1), ('decisivo', 1), ('derrubou', 1), ('favorito', 1), ('neste', 1), ('domingo', 1), ('glendale', 1), ('resultado', 1), ('maiores', 1), ('zebras', 1), ('acabou', 1), ('perfeita', 1), ('esperavam', 1), ('levantar', 1), ('troféu', 1), ('sofrer', 1), ('derrota', 1), ('ficará', 1), ('irmãos', 1), ('quarterbacks', 1), ('triunfam', 1), ('temporadas', 1), ('consecutivas', 1), ('passado', 1), ('peyton', 1), ('irmão', 1), ('indianapolis', 1), ('colts', 1), ('partida', 1), ('começaram', 1), ('mostraram', 1), ('iriam', 1), ('alongar', 1), ('posses', 1), ('misturando', 1), ('corridas', 1), ('brandon', 1), ('jacobs', 1), ('entanto', 1), ('parou', 1), ('lawrence', 1), ('tynes', 1), ('converteu', 1), ('abrir', 1), ('placar', 1), ('ficaram', 1), ('m54s', 1), ('campo', 1), ('frio', 1), ('retorno', 1), ('kickoff', 1), ('running', 1), ('back', 1), ('laurence', 1), ('boa', 1), ('posição', 1), ('graças', 1), ('penalidade', 1), ('interferência', 1), ('linebacker', 1), ('antonio', 1), ('pierce', 1), ('alcançaram', 1), ('jarda', 1), ('chão', 1), ('primeiro', 1), ('pareciam', 1), ('rumo', 1), ('virada', 1), ('sofreram', 1), ('revés', 1), ('passou', 1), ('ellis', 1), ('hobbs', 1), ('aproveitou', 1), ('tomou', 1), ('defesa', 1), ('manteve', 1), ('equilibrado', 1), ('sacks', 1), ('seguidos', 1), ('forçaram', 1), ('punt', 1), ('recuperaram', 1), ('provou', 1), ('ser', 1), ('outra', 1), ('decepção', 1), ('sofreu', 1), ('sack', 1), ('conseguindo', 1), ('ltima', 1), ('marcar', 1), ('antes', 1), ('intervalo', 1), ('segundo', 1), ('sacado', 1), ('tomaram', 1), ('longo', 1), ('ltimos', 1), ('sucesso', 1), ('continuou', 1), ('amarrado', 1), ('terceiro', 1), ('quarto', 1), ('defesas', 1), ('levando', 1), ('melhor', 1), ('sobre', 1), ('ataques', 1), ('nica', 1), ('técnico', 1), ('bill', 1), ('bellichick', 1), ('optou', 1), ('quarta', 1), ('descida', 1), ('jabar', 1), ('gaffney', 1), ('completar', 1), ('ltimo', 1), ('começou', 1), ('arrasador', 1), ('tight', 1), ('boss', 1), ('deixou', 1), ('outro', 1), ('lançamento', 1), ('marcou', 1), ('duas', 1), ('david', 1), ('tyree', 1), ('pegou', 1), ('cinco', 1), ('anotar', 1), ('virar', 1), ('hora', 1), ('decisão', 1), ('funcionar', 1), ('série', 1), ('variados', 1), ('wes', 1), ('welker', 1), ('randy', 1), ('faulk', 1), ('seguidas', 1), ('vezes', 1), ('chegar', 1), ('m45s', 1), ('quarterback', 1), ('conectou', 1), ('desmarcou', 1), ('ficou', 1), ('livre', 1), ('lateral', 1), ('direita', 1), ('fãs', 1), ('comemoravam', 1), ('inesperado', 1), ('aconteceu', 1), ('marcadores', 1), ('seguravam', 1), ('camisa', 1), ('corrida', 1), ('lançou', 1), ('wide', 1), ('receiver', 1), ('bem', 1), ('marcado', 1), ('saltou', 1), ('recepção', 1), ('quatro', 1), ('conseguir', 1)]\n"
          ]
        }
      ]
    },
    {
      "cell_type": "code",
      "metadata": {
        "colab": {
          "base_uri": "https://localhost:8080/"
        },
        "id": "pa1fT0hlyKlS",
        "outputId": "2e912f6d-b26f-4bcb-c1e4-0db5986d5c18"
      },
      "source": [
        "## Forma 2 de fazer isso: Usando lista de compreensão \n",
        "stopwords=nltk.corpus.stopwords.words('portuguese') \n",
        "tokenizer = RegexpTokenizer(r'[a-zA-Z]\\w*') ## Limitando os tokens \n",
        "tokens = tokenizer.tokenize(corpus) ## Lendo o corpus carregado\n",
        "\n",
        "nova_lista3 = [token.lower() for token in tokens if token.lower() not in stopwords]\n",
        "\n",
        "print(nova_lista3)\n",
        "frequencia1 = nltk.FreqDist(nova_lista3)  \n",
        "print(frequencia1.most_common())"
      ],
      "execution_count": null,
      "outputs": [
        {
          "output_type": "stream",
          "name": "stdout",
          "text": [
            "['giants', 'batem', 'patriots', 'super', 'bowl', 'xlii', 'azarões', 'acabam', 'invencibilidade', 'new', 'england', 'ficam', 'título', 'temporada', 'h07m', 'atualizado', 'h49m', 'passe', 'eli', 'manning', 'plaxico', 'burress', 'segundos', 'fim', 'new', 'york', 'giants', 'anotou', 'touchdown', 'decisivo', 'derrubou', 'favorito', 'new', 'england', 'patriots', 'neste', 'domingo', 'glendale', 'super', 'bowl', 'xlii', 'resultado', 'maiores', 'zebras', 'história', 'super', 'bowl', 'acabou', 'temporada', 'perfeita', 'tom', 'brady', 'companhia', 'esperavam', 'fazer', 'história', 'levantar', 'troféu', 'nfl', 'sofrer', 'derrota', 'ano', 'vitória', 'giants', 'porém', 'ficará', 'história', 'primeira', 'vez', 'irmãos', 'quarterbacks', 'triunfam', 'super', 'bowl', 'temporadas', 'consecutivas', 'ano', 'passado', 'peyton', 'manning', 'irmão', 'eli', 'chegou', 'título', 'máximo', 'nfl', 'indianapolis', 'colts', 'partida', 'giants', 'começaram', 'posse', 'bola', 'mostraram', 'logo', 'iriam', 'alongar', 'máximo', 'posses', 'bola', 'misturando', 'corridas', 'brandon', 'jacobs', 'passes', 'curtos', 'time', 'nova', 'york', 'chegou', 'red', 'zone', 'logo', 'primeira', 'campanha', 'avanço', 'entanto', 'parou', 'linha', 'jardas', 'lawrence', 'tynes', 'converteu', 'field', 'goal', 'jardas', 'abrir', 'placar', 'eli', 'manning', 'companhia', 'ficaram', 'm54s', 'bola', 'ataque', 'patriots', 'entrou', 'campo', 'frio', 'logo', 'retorno', 'kickoff', 'running', 'back', 'laurence', 'maroney', 'avançou', 'jardas', 'deixando', 'tom', 'brady', 'boa', 'posição', 'passes', 'curtos', 'patriots', 'chegaram', 'linha', 'jardas', 'graças', 'penalidade', 'interferência', 'passe', 'linebacker', 'antonio', 'pierce', 'alcançaram', 'linha', 'jarda', 'maroney', 'avançou', 'chão', 'anotou', 'primeiro', 'touchdown', 'jogo', 'giants', 'pareciam', 'rumo', 'virada', 'campanha', 'seguinte', 'manning', 'achou', 'amani', 'toomer', 'avanço', 'jardas', 'time', 'nova', 'york', 'entrou', 'novamente', 'red', 'zone', 'bola', 'linha', 'jardas', 'patriots', 'giants', 'sofreram', 'revés', 'manning', 'passou', 'steve', 'smith', 'soltou', 'bola', 'ellis', 'hobbs', 'aproveitou', 'tomou', 'posse', 'patriots', 'avançou', 'jardas', 'defesa', 'nova', 'york', 'manteve', 'jogo', 'equilibrado', 'dois', 'sacks', 'seguidos', 'giants', 'forçaram', 'punt', 'recuperaram', 'bola', 'campanha', 'seguinte', 'provou', 'ser', 'outra', 'decepção', 'nova', 'york', 'time', 'chegou', 'linha', 'jardas', 'manning', 'sofreu', 'sack', 'cometeu', 'fumble', 'ataque', 'voltou', 'linha', 'jardas', 'conseguindo', 'pontuar', 'vez', 'patriots', 'ltima', 'chance', 'marcar', 'antes', 'intervalo', 'segundos', 'fim', 'segundo', 'período', 'brady', 'novamente', 'sacado', 'desta', 'vez', 'cometeu', 'fumble', 'giants', 'tomaram', 'posse', 'bola', 'manning', 'tentou', 'passe', 'longo', 'jardas', 'ltimos', 'segundos', 'sucesso', 'jogo', 'continuou', 'amarrado', 'terceiro', 'quarto', 'defesas', 'levando', 'melhor', 'sobre', 'ataques', 'nica', 'chance', 'pontuar', 'período', 'patriots', 'chegaram', 'linha', 'jardas', 'giants', 'técnico', 'bill', 'bellichick', 'porém', 'optou', 'quarta', 'descida', 'vez', 'field', 'goal', 'brady', 'tentou', 'passe', 'jabar', 'gaffney', 'conseguiu', 'completar', 'ltimo', 'período', 'começou', 'arrasador', 'giants', 'primeira', 'jogada', 'manning', 'achou', 'tight', 'end', 'kevin', 'boss', 'incrível', 'avanço', 'jardas', 'deixou', 'time', 'linha', 'patriots', 'outro', 'lançamento', 'desta', 'vez', 'steve', 'smith', 'marcou', 'avanço', 'linha', 'jardas', 'duas', 'jogadas', 'david', 'tyree', 'pegou', 'passe', 'cinco', 'jardas', 'end', 'zone', 'anotar', 'touchdown', 'virar', 'jogo', 'hora', 'decisão', 'ataque', 'patriots', 'voltou', 'funcionar', 'série', 'passes', 'curtos', 'variados', 'brady', 'achou', 'wes', 'welker', 'randy', 'moss', 'kevin', 'faulk', 'seguidas', 'vezes', 'chegar', 'red', 'zone', 'm45s', 'fim', 'quarterback', 'conectou', 'vez', 'moss', 'desmarcou', 'ficou', 'livre', 'lateral', 'direita', 'end', 'zone', 'fãs', 'new', 'england', 'comemoravam', 'vitória', 'inesperado', 'aconteceu', 'jogada', 'incrível', 'eli', 'manning', 'soltou', 'dois', 'marcadores', 'seguravam', 'camisa', 'corrida', 'lançou', 'amani', 'toomer', 'wide', 'receiver', 'bem', 'marcado', 'saltou', 'conseguiu', 'fazer', 'recepção', 'avanço', 'jardas', 'deixando', 'giants', 'linha', 'new', 'england', 'quatro', 'jogadas', 'segundos', 'fim', 'manning', 'achou', 'plaxico', 'burress', 'end', 'zone', 'conseguir', 'touchdown', 'título']\n",
            "[('jardas', 15), ('giants', 11), ('patriots', 10), ('manning', 10), ('linha', 10), ('bola', 7), ('vez', 6), ('zone', 6), ('new', 5), ('passe', 5), ('york', 5), ('brady', 5), ('avanço', 5), ('super', 4), ('bowl', 4), ('england', 4), ('eli', 4), ('segundos', 4), ('fim', 4), ('touchdown', 4), ('time', 4), ('nova', 4), ('jogo', 4), ('achou', 4), ('end', 4), ('título', 3), ('história', 3), ('primeira', 3), ('chegou', 3), ('posse', 3), ('logo', 3), ('passes', 3), ('curtos', 3), ('red', 3), ('campanha', 3), ('ataque', 3), ('avançou', 3), ('período', 3), ('xlii', 2), ('temporada', 2), ('plaxico', 2), ('burress', 2), ('anotou', 2), ('tom', 2), ('companhia', 2), ('fazer', 2), ('nfl', 2), ('ano', 2), ('vitória', 2), ('porém', 2), ('máximo', 2), ('field', 2), ('goal', 2), ('entrou', 2), ('maroney', 2), ('deixando', 2), ('chegaram', 2), ('seguinte', 2), ('amani', 2), ('toomer', 2), ('novamente', 2), ('steve', 2), ('smith', 2), ('soltou', 2), ('dois', 2), ('cometeu', 2), ('fumble', 2), ('voltou', 2), ('pontuar', 2), ('chance', 2), ('desta', 2), ('tentou', 2), ('conseguiu', 2), ('jogada', 2), ('kevin', 2), ('incrível', 2), ('jogadas', 2), ('moss', 2), ('batem', 1), ('azarões', 1), ('acabam', 1), ('invencibilidade', 1), ('ficam', 1), ('h07m', 1), ('atualizado', 1), ('h49m', 1), ('decisivo', 1), ('derrubou', 1), ('favorito', 1), ('neste', 1), ('domingo', 1), ('glendale', 1), ('resultado', 1), ('maiores', 1), ('zebras', 1), ('acabou', 1), ('perfeita', 1), ('esperavam', 1), ('levantar', 1), ('troféu', 1), ('sofrer', 1), ('derrota', 1), ('ficará', 1), ('irmãos', 1), ('quarterbacks', 1), ('triunfam', 1), ('temporadas', 1), ('consecutivas', 1), ('passado', 1), ('peyton', 1), ('irmão', 1), ('indianapolis', 1), ('colts', 1), ('partida', 1), ('começaram', 1), ('mostraram', 1), ('iriam', 1), ('alongar', 1), ('posses', 1), ('misturando', 1), ('corridas', 1), ('brandon', 1), ('jacobs', 1), ('entanto', 1), ('parou', 1), ('lawrence', 1), ('tynes', 1), ('converteu', 1), ('abrir', 1), ('placar', 1), ('ficaram', 1), ('m54s', 1), ('campo', 1), ('frio', 1), ('retorno', 1), ('kickoff', 1), ('running', 1), ('back', 1), ('laurence', 1), ('boa', 1), ('posição', 1), ('graças', 1), ('penalidade', 1), ('interferência', 1), ('linebacker', 1), ('antonio', 1), ('pierce', 1), ('alcançaram', 1), ('jarda', 1), ('chão', 1), ('primeiro', 1), ('pareciam', 1), ('rumo', 1), ('virada', 1), ('sofreram', 1), ('revés', 1), ('passou', 1), ('ellis', 1), ('hobbs', 1), ('aproveitou', 1), ('tomou', 1), ('defesa', 1), ('manteve', 1), ('equilibrado', 1), ('sacks', 1), ('seguidos', 1), ('forçaram', 1), ('punt', 1), ('recuperaram', 1), ('provou', 1), ('ser', 1), ('outra', 1), ('decepção', 1), ('sofreu', 1), ('sack', 1), ('conseguindo', 1), ('ltima', 1), ('marcar', 1), ('antes', 1), ('intervalo', 1), ('segundo', 1), ('sacado', 1), ('tomaram', 1), ('longo', 1), ('ltimos', 1), ('sucesso', 1), ('continuou', 1), ('amarrado', 1), ('terceiro', 1), ('quarto', 1), ('defesas', 1), ('levando', 1), ('melhor', 1), ('sobre', 1), ('ataques', 1), ('nica', 1), ('técnico', 1), ('bill', 1), ('bellichick', 1), ('optou', 1), ('quarta', 1), ('descida', 1), ('jabar', 1), ('gaffney', 1), ('completar', 1), ('ltimo', 1), ('começou', 1), ('arrasador', 1), ('tight', 1), ('boss', 1), ('deixou', 1), ('outro', 1), ('lançamento', 1), ('marcou', 1), ('duas', 1), ('david', 1), ('tyree', 1), ('pegou', 1), ('cinco', 1), ('anotar', 1), ('virar', 1), ('hora', 1), ('decisão', 1), ('funcionar', 1), ('série', 1), ('variados', 1), ('wes', 1), ('welker', 1), ('randy', 1), ('faulk', 1), ('seguidas', 1), ('vezes', 1), ('chegar', 1), ('m45s', 1), ('quarterback', 1), ('conectou', 1), ('desmarcou', 1), ('ficou', 1), ('livre', 1), ('lateral', 1), ('direita', 1), ('fãs', 1), ('comemoravam', 1), ('inesperado', 1), ('aconteceu', 1), ('marcadores', 1), ('seguravam', 1), ('camisa', 1), ('corrida', 1), ('lançou', 1), ('wide', 1), ('receiver', 1), ('bem', 1), ('marcado', 1), ('saltou', 1), ('recepção', 1), ('quatro', 1), ('conseguir', 1)]\n"
          ]
        }
      ]
    }
  ]
}
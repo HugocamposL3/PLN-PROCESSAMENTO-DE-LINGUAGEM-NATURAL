{
  "nbformat": 4,
  "nbformat_minor": 0,
  "metadata": {
    "colab": {
      "name": "Aula 05 do Curso de P.L.N USP Biblioteca Spacy.ipynb",
      "provenance": [],
      "authorship_tag": "ABX9TyMDZSjnq2IDfsyD5o1rlYAJ",
      "include_colab_link": true
    },
    "kernelspec": {
      "name": "python3",
      "display_name": "Python 3"
    },
    "language_info": {
      "name": "python"
    }
  },
  "cells": [
    {
      "cell_type": "markdown",
      "metadata": {
        "id": "view-in-github",
        "colab_type": "text"
      },
      "source": [
        "<a href=\"https://colab.research.google.com/github/HugocamposL3/PLN-PROCESSAMENTO-DE-LINGUAGEM-NATURAL/blob/main/Aula_05_do_Curso_de_P_L_N_USP_Biblioteca_Spacy.ipynb\" target=\"_parent\"><img src=\"https://colab.research.google.com/assets/colab-badge.svg\" alt=\"Open In Colab\"/></a>"
      ]
    },
    {
      "cell_type": "code",
      "metadata": {
        "id": "ABxeo1uRK4yr"
      },
      "source": [
        "pip install -U spacy ## -U serve para instalar a versão mais nova"
      ],
      "execution_count": null,
      "outputs": []
    },
    {
      "cell_type": "code",
      "metadata": {
        "colab": {
          "base_uri": "https://localhost:8080/"
        },
        "id": "o2cklGG6OYyy",
        "outputId": "714d3462-9d99-4609-8d99-dc4e6be9fc0f"
      },
      "source": [
        "pip install -U spacy-lookups-data"
      ],
      "execution_count": null,
      "outputs": [
        {
          "output_type": "stream",
          "name": "stdout",
          "text": [
            "Collecting spacy-lookups-data\n",
            "  Downloading spacy_lookups_data-1.0.3-py2.py3-none-any.whl (98.5 MB)\n",
            "\u001b[K     |████████████████████████████████| 98.5 MB 38 kB/s \n",
            "\u001b[?25hRequirement already satisfied: setuptools in /usr/local/lib/python3.7/dist-packages (from spacy-lookups-data) (57.4.0)\n",
            "Installing collected packages: spacy-lookups-data\n",
            "Successfully installed spacy-lookups-data-1.0.3\n"
          ]
        }
      ]
    },
    {
      "cell_type": "code",
      "metadata": {
        "id": "vpapDfXhPxyw"
      },
      "source": [
        "!python -m spacy download pt_core_news_lg"
      ],
      "execution_count": null,
      "outputs": []
    },
    {
      "cell_type": "code",
      "metadata": {
        "id": "gUvZ4SsaSYgE"
      },
      "source": [
        "import spacy"
      ],
      "execution_count": null,
      "outputs": []
    },
    {
      "cell_type": "code",
      "metadata": {
        "id": "eDI7aiVcSdWt"
      },
      "source": [
        "texto = \"Ele também é conhecido como “The Honey Badger” (O Texugo-do-mel). Quando perguntado por que, ele disse: É provavelmente o animal mais destemido no reino animal. Quando você olha para ele, ele parece bastante bonitinho e fofinho, mas assim que alguém cruza seu território de uma forma que ele não goste, ele se transforma em um selvagem e ele vai atrás de qualquer coisa — tigres, cobras — ele gira muito rapidamente, mas ele é um cara bom.Ele usa uma imagem de um texugo-do-mel na parte de trás do capacete.\"\n",
        "nlp = spacy.load(\"pt_core_news_lg\")\n",
        "doc = nlp(texto) ## o texto não os tokens, pode passar o texto puro"
      ],
      "execution_count": null,
      "outputs": []
    },
    {
      "cell_type": "markdown",
      "metadata": {
        "id": "bwzbLX41cqBG"
      },
      "source": [
        "## Tokenização"
      ]
    },
    {
      "cell_type": "code",
      "metadata": {
        "id": "Sli6kmtOTfDt"
      },
      "source": [
        "tokens = [token for token in doc ] ## Ele imprima o texto em uma lista de tokens\n",
        "tokens"
      ],
      "execution_count": null,
      "outputs": []
    },
    {
      "cell_type": "code",
      "metadata": {
        "id": "DcOUvQiFU2bx"
      },
      "source": [
        "tokens = [token.orth_ for token in doc ] ## Transforma o texto em um padrão tipo string \n",
        "tokens\n"
      ],
      "execution_count": null,
      "outputs": []
    },
    {
      "cell_type": "markdown",
      "metadata": {
        "id": "Vnnc40RyVWuI"
      },
      "source": [
        "## Descobrindo se o token é uma letra ou numero por via da biblioteca Spacy "
      ]
    },
    {
      "cell_type": "code",
      "metadata": {
        "colab": {
          "base_uri": "https://localhost:8080/"
        },
        "id": "IPHnUJD3Vc1a",
        "outputId": "61ba2201-dca6-4930-e066-a16071eb0689"
      },
      "source": [
        "alpha_tokens = [token.orth_ for token in doc if token.is_alpha] ## Representação textual do token em 'doc' se o tokne for uma letra\n",
        "print('alpha tokens: %s'%(alpha_tokens)) ## vai somente caracteres"
      ],
      "execution_count": null,
      "outputs": [
        {
          "output_type": "stream",
          "name": "stdout",
          "text": [
            "alpha tokens: ['Ele', 'também', 'é', 'conhecido', 'como', 'The', 'Honey', 'Badger', 'O', 'Quando', 'perguntado', 'por', 'que', 'ele', 'disse', 'É', 'provavelmente', 'o', 'animal', 'mais', 'destemido', 'no', 'reino', 'animal', 'Quando', 'você', 'olha', 'para', 'ele', 'ele', 'parece', 'bastante', 'bonitinho', 'e', 'fofinho', 'mas', 'assim', 'que', 'alguém', 'cruza', 'seu', 'território', 'de', 'uma', 'forma', 'que', 'ele', 'não', 'goste', 'ele', 'se', 'transforma', 'em', 'um', 'selvagem', 'e', 'ele', 'vai', 'atrás', 'de', 'qualquer', 'coisa', 'tigres', 'cobras', 'ele', 'gira', 'muito', 'rapidamente', 'mas', 'ele', 'é', 'um', 'cara', 'bom', 'Ele', 'usa', 'uma', 'imagem', 'de', 'um', 'na', 'parte', 'de', 'trás', 'do', 'capacete']\n"
          ]
        }
      ]
    },
    {
      "cell_type": "code",
      "metadata": {
        "colab": {
          "base_uri": "https://localhost:8080/"
        },
        "id": "bbybWwdHWYLV",
        "outputId": "10e276cd-8b1a-4d33-9f8e-784e2421eba4"
      },
      "source": [
        "digit_tokens = [token.orth_ for token in doc if token.is_digit] \n",
        "print('digit tokens: %s'%(digit_tokens)) ## Vai mostrar somente numeros"
      ],
      "execution_count": null,
      "outputs": [
        {
          "output_type": "stream",
          "name": "stdout",
          "text": [
            "digit tokens: []\n"
          ]
        }
      ]
    },
    {
      "cell_type": "code",
      "metadata": {
        "colab": {
          "base_uri": "https://localhost:8080/"
        },
        "id": "akuDRlq1Wz7r",
        "outputId": "b4b0055d-0927-4663-85c1-7c068379c9cc"
      },
      "source": [
        "punct_tokens = [token.orth_ for token in doc if token.is_punct]\n",
        "print('punct tokens: %s'%(punct_tokens)) ## Vai mostrar somente sinais"
      ],
      "execution_count": null,
      "outputs": [
        {
          "output_type": "stream",
          "name": "stdout",
          "text": [
            "punct tokens: ['“', '”', '(', ')', '.', ',', ':', '.', ',', ',', ',', '—', ',', '—', ',', '.', '.']\n"
          ]
        }
      ]
    },
    {
      "cell_type": "code",
      "metadata": {
        "colab": {
          "base_uri": "https://localhost:8080/",
          "height": 171
        },
        "id": "jnlw1CVPX1R5",
        "outputId": "3a55e850-ee35-4645-854b-6acc64b952b8"
      },
      "source": [
        "corpus = open(\"/content/corpus_teste.txt\").read()\n",
        "corpus"
      ],
      "execution_count": null,
      "outputs": [
        {
          "output_type": "execute_result",
          "data": {
            "application/vnd.google.colaboratory.intrinsic+json": {
              "type": "string"
            },
            "text/plain": [
              "'Giants batem os Patriots no Super Bowl XLII\\nAzarões acabam com a invencibilidade de New England e ficam com o título da temporada\\n04/02/2008 - 01h07m - Atualizado em 04/02/2008 - 09h49m\\n\\nCom um passe de Eli Manning para Plaxico Burress a 39 segundos do fim, o New York Giants anotou o touchdown decisivo e derrubou o favorito New England Patriots por 17 a 14 neste domingo, em Glendale, no Super Bowl XLII. O resultado, uma das maiores zebras da história do Super Bowl, acabou com a temporada perfeita de Tom Brady e companhia, que esperavam fazer história ao levantar o troféu da NFL sem sofrer uma derrota no ano. \\n\\nA vitória dos Giants, porém, também ficará para a história. Pela primeira vez, irmãos quarterbacks triunfam no Super Bowl em temporadas consecutivas. No ano passado, Peyton Manning, irmão de Eli, chegou ao título máximo da NFL pelo Indianapolis Colts.\\n\\nA partida\\n\\nOs Giants começaram com a posse de bola, e mostraram logo que iriam alongar ao máximo suas posses de bola. Misturando corridas com Brandon Jacobs e passes curtos, o time de Nova York chegou à red zone logo na primeira campanha. O avanço, no entanto, parou na linha de 17 jardas e Lawrence Tynes converteu o field goal de 32 jardas para abrir o placar.\\n\\nEli Manning e companhia ficaram 9m54s com a bola, mas o ataque dos Patriots não entrou em campo frio. Logo no retorno do kickoff, o running back Laurence Maroney avançou 43 jardas, deixando Tom Brady em boa posição. Com passes curtos, os Patriots chegaram à linha de 17 jardas e, graças a uma penalidade (interferência de passe) do linebacker Antonio Pierce, alcançaram a linha de uma jarda. Maroney avançou pelo chão e anotou o primeiro touchdown do jogo.\\n\\nOs Giants pareciam rumo à virada na campanha seguinte. Manning achou Amani Toomer para um avanço de 38 jardas, e o time de Nova York entrou novamente na red zone. Com a bola na linha de 14 jardas dos Patriots, os Giants sofreram um revés. Manning passou para Steve Smith, que soltou a bola. Ellis Hobbs aproveitou, tomou a posse para os Patriots, e avançou 23 jardas. \\n\\nA defesa de Nova York manteve o jogo equilibrado. Com dois sacks seguidos, os Giants forçaram o punt e recuperaram a bola. Mas a campanha seguinte provou ser outra decepção para Nova York. O time chegou à linha de 25 jardas, mas Manning sofreu um sack e cometeu um fumble, e o ataque voltou para a linha de 39 jardas, não conseguindo pontuar mais uma vez.\\n\\nOs Patriots tiveram uma última chance de marcar antes do intervalo, mas, a 22 segundos do fim do segundo período, Brady foi novamente sacado. Desta vez, ele cometeu o fumble e os Giants tomaram a posse de bola. Manning tentou um passe longo, de 50 jardas, nos últimos segundos, mas não teve sucesso. \\n\\nO jogo continuou amarrado no terceiro quarto, com as defesas levando a melhor sobre os ataques. A única chance de pontuar do período foi dos Patriots, que chegaram à linha de 31 jardas dos Giants. O técnico Bill Bellichick, porém, optou por uma quarta descida em vez de um field goal. Brady tentou um passe para Jabar Gaffney, mas não conseguiu completar.\\n\\nO último período começou arrasador para os Giants. na primeira jogada, Manning achou o tight end Kevin Boss, para um incrível avanço de 45 jardas, que deixou o time na linha de 35 dos Patriots. Outro lançamento, desta vez para Steve Smith, marcou o avanço até a linha de 12 jardas. Duas jogadas depois, David Tyree pegou um passe de cinco jardas na end zone para anotar o touchdown e virar o jogo.\\n\\nNa hora da decisão, o ataque dos Patriots voltou a funcionar. Com uma série de passes curtos e variados, Brady achou Wes Welker, Randy Moss e Kevin Faulk seguidas vezes até chegar à red zone. A 2m45s do fim, o quarterback conectou mais uma vez com Moss, que se desmarcou e ficou livre na lateral direita da end zone.\\n\\nQuando os fãs de New England já comemoravam a vitória, o inesperado aconteceu. Em uma jogada incrível, Eli Manning se soltou de dois marcadores que o seguravam pela camisa e, na corrida, lançou para Amani Toomer. O wide receiver, bem marcado, saltou e conseguiu a fazer recepção para um avanço de 32 jardas, deixando os Giants na linha de 24 de New England.\\n\\nQuatro jogadas depois, a 39 segundos do fim, Manning achou Plaxico Burress na end zone para conseguir o touchdown do título.'"
            ]
          },
          "metadata": {},
          "execution_count": 44
        }
      ]
    },
    {
      "cell_type": "code",
      "metadata": {
        "id": "8K6INXeAYJ7p"
      },
      "source": [
        "nlp1 = spacy.load(\"pt_core_news_lg\")\n",
        "doc1 = nlp1(corpus)"
      ],
      "execution_count": null,
      "outputs": []
    },
    {
      "cell_type": "code",
      "metadata": {
        "id": "IoCq0s30cCnw"
      },
      "source": [
        "tokens = [token.orth_ for token in doc1]\n",
        "tokens"
      ],
      "execution_count": null,
      "outputs": []
    },
    {
      "cell_type": "code",
      "metadata": {
        "colab": {
          "base_uri": "https://localhost:8080/"
        },
        "id": "g4rsgy8NcQyW",
        "outputId": "f1e46eb2-39ab-43d3-8b24-3d0f5af202cc"
      },
      "source": [
        "alpha_tokens = [token.orth_ for token in doc1 if token.is_alpha] ## Representação textual do token em 'doc' se o tokne for uma letra\n",
        "print('alpha tokens: %s'%(alpha_tokens)) ## vai somente caracteres"
      ],
      "execution_count": null,
      "outputs": [
        {
          "output_type": "stream",
          "name": "stdout",
          "text": [
            "alpha tokens: ['Giants', 'batem', 'os', 'Patriots', 'no', 'Super', 'Bowl', 'XLII', 'Azarões', 'acabam', 'com', 'a', 'invencibilidade', 'de', 'New', 'England', 'e', 'ficam', 'com', 'o', 'título', 'da', 'temporada', 'm', 'Atualizado', 'em', 'm', 'Com', 'um', 'passe', 'de', 'Eli', 'Manning', 'para', 'Plaxico', 'Burress', 'a', 'segundos', 'do', 'fim', 'o', 'New', 'York', 'Giants', 'anotou', 'o', 'touchdown', 'decisivo', 'e', 'derrubou', 'o', 'favorito', 'New', 'England', 'Patriots', 'por', 'a', 'neste', 'domingo', 'em', 'Glendale', 'no', 'Super', 'Bowl', 'XLII', 'O', 'resultado', 'uma', 'das', 'maiores', 'zebras', 'da', 'história', 'do', 'Super', 'Bowl', 'acabou', 'com', 'a', 'temporada', 'perfeita', 'de', 'Tom', 'Brady', 'e', 'companhia', 'que', 'esperavam', 'fazer', 'história', 'ao', 'levantar', 'o', 'troféu', 'da', 'NFL', 'sem', 'sofrer', 'uma', 'derrota', 'no', 'ano', 'A', 'vitória', 'dos', 'Giants', 'porém', 'também', 'ficará', 'para', 'a', 'história', 'Pela', 'primeira', 'vez', 'irmãos', 'quarterbacks', 'triunfam', 'no', 'Super', 'Bowl', 'em', 'temporadas', 'consecutivas', 'No', 'ano', 'passado', 'Peyton', 'Manning', 'irmão', 'de', 'Eli', 'chegou', 'ao', 'título', 'máximo', 'da', 'NFL', 'pelo', 'Indianapolis', 'Colts', 'A', 'partida', 'Os', 'Giants', 'começaram', 'com', 'a', 'posse', 'de', 'bola', 'e', 'mostraram', 'logo', 'que', 'iriam', 'alongar', 'ao', 'máximo', 'suas', 'posses', 'de', 'bola', 'Misturando', 'corridas', 'com', 'Brandon', 'Jacobs', 'e', 'passes', 'curtos', 'o', 'time', 'de', 'Nova', 'York', 'chegou', 'à', 'red', 'zone', 'logo', 'na', 'primeira', 'campanha', 'O', 'avanço', 'no', 'entanto', 'parou', 'na', 'linha', 'de', 'jardas', 'e', 'Lawrence', 'Tynes', 'converteu', 'o', 'field', 'goal', 'de', 'jardas', 'para', 'abrir', 'o', 'placar', 'Eli', 'Manning', 'e', 'companhia', 'ficaram', 'com', 'a', 'bola', 'mas', 'o', 'ataque', 'dos', 'Patriots', 'não', 'entrou', 'em', 'campo', 'frio', 'Logo', 'no', 'retorno', 'do', 'kickoff', 'o', 'running', 'back', 'Laurence', 'Maroney', 'avançou', 'jardas', 'deixando', 'Tom', 'Brady', 'em', 'boa', 'posição', 'Com', 'passes', 'curtos', 'os', 'Patriots', 'chegaram', 'à', 'linha', 'de', 'jardas', 'e', 'graças', 'a', 'uma', 'penalidade', 'interferência', 'de', 'passe', 'do', 'linebacker', 'Antonio', 'Pierce', 'alcançaram', 'a', 'linha', 'de', 'uma', 'jarda', 'Maroney', 'avançou', 'pelo', 'chão', 'e', 'anotou', 'o', 'primeiro', 'touchdown', 'do', 'jogo', 'Os', 'Giants', 'pareciam', 'rumo', 'à', 'virada', 'na', 'campanha', 'seguinte', 'Manning', 'achou', 'Amani', 'Toomer', 'para', 'um', 'avanço', 'de', 'jardas', 'e', 'o', 'time', 'de', 'Nova', 'York', 'entrou', 'novamente', 'na', 'red', 'zone', 'Com', 'a', 'bola', 'na', 'linha', 'de', 'jardas', 'dos', 'Patriots', 'os', 'Giants', 'sofreram', 'um', 'revés', 'Manning', 'passou', 'para', 'Steve', 'Smith', 'que', 'soltou', 'a', 'bola', 'Ellis', 'Hobbs', 'aproveitou', 'tomou', 'a', 'posse', 'para', 'os', 'Patriots', 'e', 'avançou', 'jardas', 'A', 'defesa', 'de', 'Nova', 'York', 'manteve', 'o', 'jogo', 'equilibrado', 'Com', 'dois', 'sacks', 'seguidos', 'os', 'Giants', 'forçaram', 'o', 'punt', 'e', 'recuperaram', 'a', 'bola', 'Mas', 'a', 'campanha', 'seguinte', 'provou', 'ser', 'outra', 'decepção', 'para', 'Nova', 'York', 'O', 'time', 'chegou', 'à', 'linha', 'de', 'jardas', 'mas', 'Manning', 'sofreu', 'um', 'sack', 'e', 'cometeu', 'um', 'fumble', 'e', 'o', 'ataque', 'voltou', 'para', 'a', 'linha', 'de', 'jardas', 'não', 'conseguindo', 'pontuar', 'mais', 'uma', 'vez', 'Os', 'Patriots', 'tiveram', 'uma', 'última', 'chance', 'de', 'marcar', 'antes', 'do', 'intervalo', 'mas', 'a', 'segundos', 'do', 'fim', 'do', 'segundo', 'período', 'Brady', 'foi', 'novamente', 'sacado', 'Desta', 'vez', 'ele', 'cometeu', 'o', 'fumble', 'e', 'os', 'Giants', 'tomaram', 'a', 'posse', 'de', 'bola', 'Manning', 'tentou', 'um', 'passe', 'longo', 'de', 'jardas', 'nos', 'últimos', 'segundos', 'mas', 'não', 'teve', 'sucesso', 'O', 'jogo', 'continuou', 'amarrado', 'no', 'terceiro', 'quarto', 'com', 'as', 'defesas', 'levando', 'a', 'melhor', 'sobre', 'os', 'ataques', 'A', 'única', 'chance', 'de', 'pontuar', 'do', 'período', 'foi', 'dos', 'Patriots', 'que', 'chegaram', 'à', 'linha', 'de', 'jardas', 'dos', 'Giants', 'O', 'técnico', 'Bill', 'Bellichick', 'porém', 'optou', 'por', 'uma', 'quarta', 'descida', 'em', 'vez', 'de', 'um', 'field', 'goal', 'Brady', 'tentou', 'um', 'passe', 'para', 'Jabar', 'Gaffney', 'mas', 'não', 'conseguiu', 'completar', 'O', 'último', 'período', 'começou', 'arrasador', 'para', 'os', 'Giants', 'na', 'primeira', 'jogada', 'Manning', 'achou', 'o', 'tight', 'end', 'Kevin', 'Boss', 'para', 'um', 'incrível', 'avanço', 'de', 'jardas', 'que', 'deixou', 'o', 'time', 'na', 'linha', 'de', 'dos', 'Patriots', 'Outro', 'lançamento', 'desta', 'vez', 'para', 'Steve', 'Smith', 'marcou', 'o', 'avanço', 'até', 'a', 'linha', 'de', 'jardas', 'Duas', 'jogadas', 'depois', 'David', 'Tyree', 'pegou', 'um', 'passe', 'de', 'cinco', 'jardas', 'na', 'end', 'zone', 'para', 'anotar', 'o', 'touchdown', 'e', 'virar', 'o', 'jogo', 'Na', 'hora', 'da', 'decisão', 'o', 'ataque', 'dos', 'Patriots', 'voltou', 'a', 'funcionar', 'Com', 'uma', 'série', 'de', 'passes', 'curtos', 'e', 'variados', 'Brady', 'achou', 'Wes', 'Welker', 'Randy', 'Moss', 'e', 'Kevin', 'Faulk', 'seguidas', 'vezes', 'até', 'chegar', 'à', 'red', 'zone', 'A', 'do', 'fim', 'o', 'quarterback', 'conectou', 'mais', 'uma', 'vez', 'com', 'Moss', 'que', 'se', 'desmarcou', 'e', 'ficou', 'livre', 'na', 'lateral', 'direita', 'da', 'end', 'zone', 'Quando', 'os', 'fãs', 'de', 'New', 'England', 'já', 'comemoravam', 'a', 'vitória', 'o', 'inesperado', 'aconteceu', 'Em', 'uma', 'jogada', 'incrível', 'Eli', 'Manning', 'se', 'soltou', 'de', 'dois', 'marcadores', 'que', 'o', 'seguravam', 'pela', 'camisa', 'e', 'na', 'corrida', 'lançou', 'para', 'Amani', 'Toomer', 'O', 'wide', 'receiver', 'bem', 'marcado', 'saltou', 'e', 'conseguiu', 'a', 'fazer', 'recepção', 'para', 'um', 'avanço', 'de', 'jardas', 'deixando', 'os', 'Giants', 'na', 'linha', 'de', 'de', 'New', 'England', 'Quatro', 'jogadas', 'depois', 'a', 'segundos', 'do', 'fim', 'Manning', 'achou', 'Plaxico', 'Burress', 'na', 'end', 'zone', 'para', 'conseguir', 'o', 'touchdown', 'do', 'título']\n"
          ]
        }
      ]
    },
    {
      "cell_type": "code",
      "metadata": {
        "colab": {
          "base_uri": "https://localhost:8080/"
        },
        "id": "Db4Pyg67ckgg",
        "outputId": "b72e6fe6-e903-40f3-b44b-f78062c7c837"
      },
      "source": [
        "digit_tokens = [token.orth_ for token in doc1 if token.is_digit] \n",
        "print('digit tokens: %s'%(digit_tokens)) ## Vai mostrar somente numeros"
      ],
      "execution_count": null,
      "outputs": [
        {
          "output_type": "stream",
          "name": "stdout",
          "text": [
            "digit tokens: ['39', '17', '14', '17', '32', '43', '17', '38', '14', '23', '25', '39', '22', '50', '31', '45', '35', '12', '32', '24', '39']\n"
          ]
        }
      ]
    },
    {
      "cell_type": "markdown",
      "metadata": {
        "id": "PcmQGirIcuti"
      },
      "source": [
        "## Lematização "
      ]
    },
    {
      "cell_type": "code",
      "metadata": {
        "id": "Oe8Ocf7Dcwbq"
      },
      "source": [
        "## O spacy não tem stemming "
      ],
      "execution_count": null,
      "outputs": []
    },
    {
      "cell_type": "code",
      "metadata": {
        "colab": {
          "base_uri": "https://localhost:8080/"
        },
        "id": "LTllFl8Sc7wP",
        "outputId": "f6e3bba3-de57-4c83-e41e-4a4c353569fe"
      },
      "source": [
        "lemmas = [token.lemma_ for token in doc1 if token.pos_== 'VERB']\n",
        "print(lemmas)"
      ],
      "execution_count": null,
      "outputs": [
        {
          "output_type": "stream",
          "name": "stdout",
          "text": [
            "['bater', 'acabar', 'ficar', 'Atualizado', 'anotar', 'derrubar', 'acabar', 'esperar', 'fazer', 'levantar', 'sofrer', 'ficar', 'triunfar', 'chegar', 'começar', 'mostrar', 'alongar', 'Misturando', 'chegar', 'parar', 'converter', 'abrir', 'ficar', 'entrar', 'avançar', 'deixar', 'chegar', 'alcançar', 'avançar', 'anotar', 'parecer', 'achar', 'entrar', 'sofrer', 'passar', 'soltar', 'aproveitar', 'tomar', 'avançar', 'manter', 'seguir', 'forçar', 'recuperar', 'provar', 'chegar', 'sofrer', 'cometer', 'voltar', 'conseguir', 'pontuar', 'ter', 'marcar', 'sacar', 'cometer', 'tomar', 'tentar', 'ter', 'continuar', 'amarrar', 'levar', 'pontuar', 'chegar', 'optar', 'tentar', 'conseguir', 'completar', 'começar', 'achar', 'deixar', 'marcar', 'pegar', 'anotar', 'virar', 'voltar', 'funcionar', 'achar', 'seguir', 'chegar', 'conectar', 'desmarcar', 'ficar', 'comemorar', 'acontecer', 'soltar', 'segurar', 'lançar', 'marcar', 'saltar', 'conseguir', 'fazer', 'deixar', 'achar', 'conseguir']\n"
          ]
        }
      ]
    },
    {
      "cell_type": "code",
      "metadata": {
        "colab": {
          "base_uri": "https://localhost:8080/"
        },
        "id": "NLTN171Dd0Se",
        "outputId": "cc04ad64-f51a-4f90-e53e-775da9fcf149"
      },
      "source": [
        "pos= [(token.orth_,token.pos_)for token in doc1] ## Trazendo todas as classes gramaticais do texto \n",
        "print (pos)"
      ],
      "execution_count": null,
      "outputs": [
        {
          "output_type": "stream",
          "name": "stdout",
          "text": [
            "[('Giants', 'PROPN'), ('batem', 'VERB'), ('os', 'DET'), ('Patriots', 'PROPN'), ('no', 'ADP'), ('Super', 'PROPN'), ('Bowl', 'PROPN'), ('XLII', 'PROPN'), ('\\n', 'SPACE'), ('Azarões', 'PROPN'), ('acabam', 'VERB'), ('com', 'ADP'), ('a', 'DET'), ('invencibilidade', 'NOUN'), ('de', 'ADP'), ('New', 'PROPN'), ('England', 'PROPN'), ('e', 'CCONJ'), ('ficam', 'VERB'), ('com', 'ADP'), ('o', 'DET'), ('título', 'NOUN'), ('da', 'ADP'), ('temporada', 'NOUN'), ('\\n', 'SPACE'), ('04/02/2008', 'NUM'), ('-', 'PUNCT'), ('01h07', 'NUM'), ('m', 'NUM'), ('-', 'PUNCT'), ('Atualizado', 'VERB'), ('em', 'ADP'), ('04/02/2008', 'NUM'), ('-', 'PUNCT'), ('09h49', 'NUM'), ('m', 'ADP'), ('\\n\\n', 'SPACE'), ('Com', 'ADP'), ('um', 'DET'), ('passe', 'NOUN'), ('de', 'ADP'), ('Eli', 'PROPN'), ('Manning', 'PROPN'), ('para', 'ADP'), ('Plaxico', 'PROPN'), ('Burress', 'PROPN'), ('a', 'ADP'), ('39', 'NUM'), ('segundos', 'NOUN'), ('do', 'ADP'), ('fim', 'NOUN'), (',', 'PUNCT'), ('o', 'DET'), ('New', 'PROPN'), ('York', 'PROPN'), ('Giants', 'PROPN'), ('anotou', 'VERB'), ('o', 'DET'), ('touchdown', 'NOUN'), ('decisivo', 'ADJ'), ('e', 'CCONJ'), ('derrubou', 'VERB'), ('o', 'DET'), ('favorito', 'NOUN'), ('New', 'PROPN'), ('England', 'PROPN'), ('Patriots', 'PROPN'), ('por', 'ADP'), ('17', 'NUM'), ('a', 'ADP'), ('14', 'NUM'), ('neste', 'ADP'), ('domingo', 'NOUN'), (',', 'PUNCT'), ('em', 'ADP'), ('Glendale', 'PROPN'), (',', 'PUNCT'), ('no', 'ADP'), ('Super', 'PROPN'), ('Bowl', 'PROPN'), ('XLII', 'PROPN'), ('.', 'PUNCT'), ('O', 'DET'), ('resultado', 'NOUN'), (',', 'PUNCT'), ('uma', 'NUM'), ('das', 'ADP'), ('maiores', 'ADJ'), ('zebras', 'NOUN'), ('da', 'ADP'), ('história', 'NOUN'), ('do', 'ADP'), ('Super', 'PROPN'), ('Bowl', 'PROPN'), (',', 'PUNCT'), ('acabou', 'VERB'), ('com', 'ADP'), ('a', 'DET'), ('temporada', 'NOUN'), ('perfeita', 'ADJ'), ('de', 'ADP'), ('Tom', 'PROPN'), ('Brady', 'PROPN'), ('e', 'CCONJ'), ('companhia', 'NOUN'), (',', 'PUNCT'), ('que', 'PRON'), ('esperavam', 'VERB'), ('fazer', 'VERB'), ('história', 'NOUN'), ('ao', 'SCONJ'), ('levantar', 'VERB'), ('o', 'DET'), ('troféu', 'NOUN'), ('da', 'ADP'), ('NFL', 'PROPN'), ('sem', 'SCONJ'), ('sofrer', 'VERB'), ('uma', 'DET'), ('derrota', 'NOUN'), ('no', 'ADP'), ('ano', 'NOUN'), ('.', 'PUNCT'), ('\\n\\n', 'SPACE'), ('A', 'DET'), ('vitória', 'NOUN'), ('dos', 'ADP'), ('Giants', 'PROPN'), (',', 'PUNCT'), ('porém', 'CCONJ'), (',', 'PUNCT'), ('também', 'ADV'), ('ficará', 'VERB'), ('para', 'ADP'), ('a', 'DET'), ('história', 'NOUN'), ('.', 'PUNCT'), ('Pela', 'NOUN'), ('primeira', 'ADP'), ('vez', 'NOUN'), (',', 'PUNCT'), ('irmãos', 'NOUN'), ('quarterbacks', 'ADJ'), ('triunfam', 'VERB'), ('no', 'ADP'), ('Super', 'PROPN'), ('Bowl', 'PROPN'), ('em', 'ADP'), ('temporadas', 'NOUN'), ('consecutivas', 'ADJ'), ('.', 'PUNCT'), ('No', 'ADP'), ('ano', 'NOUN'), ('passado', 'ADJ'), (',', 'PUNCT'), ('Peyton', 'PROPN'), ('Manning', 'PROPN'), (',', 'PUNCT'), ('irmão', 'NOUN'), ('de', 'ADP'), ('Eli', 'PROPN'), (',', 'PUNCT'), ('chegou', 'VERB'), ('ao', 'ADP'), ('título', 'NOUN'), ('máximo', 'ADJ'), ('da', 'ADP'), ('NFL', 'PROPN'), ('pelo', 'ADP'), ('Indianapolis', 'PROPN'), ('Colts', 'PROPN'), ('.', 'PUNCT'), ('\\n\\n', 'SPACE'), ('A', 'DET'), ('partida', 'NOUN'), ('\\n\\n', 'SPACE'), ('Os', 'DET'), ('Giants', 'PROPN'), ('começaram', 'VERB'), ('com', 'ADP'), ('a', 'DET'), ('posse', 'NOUN'), ('de', 'ADP'), ('bola', 'NOUN'), (',', 'PUNCT'), ('e', 'CCONJ'), ('mostraram', 'VERB'), ('logo', 'ADV'), ('que', 'SCONJ'), ('iriam', 'AUX'), ('alongar', 'VERB'), ('ao', 'ADP'), ('máximo', 'NOUN'), ('suas', 'DET'), ('posses', 'NOUN'), ('de', 'ADP'), ('bola', 'NOUN'), ('.', 'PUNCT'), ('Misturando', 'VERB'), ('corridas', 'NOUN'), ('com', 'ADP'), ('Brandon', 'PROPN'), ('Jacobs', 'PROPN'), ('e', 'CCONJ'), ('passes', 'NOUN'), ('curtos', 'ADJ'), (',', 'PUNCT'), ('o', 'DET'), ('time', 'NOUN'), ('de', 'ADP'), ('Nova', 'PROPN'), ('York', 'PROPN'), ('chegou', 'VERB'), ('à', 'ADP'), ('red', 'ADJ'), ('zone', 'NOUN'), ('logo', 'ADV'), ('na', 'ADP'), ('primeira', 'ADJ'), ('campanha', 'NOUN'), ('.', 'PUNCT'), ('O', 'DET'), ('avanço', 'NOUN'), (',', 'PUNCT'), ('no', 'ADP'), ('entanto', 'NOUN'), (',', 'PUNCT'), ('parou', 'VERB'), ('na', 'ADP'), ('linha', 'NOUN'), ('de', 'ADP'), ('17', 'NUM'), ('jardas', 'NOUN'), ('e', 'CCONJ'), ('Lawrence', 'PROPN'), ('Tynes', 'PROPN'), ('converteu', 'VERB'), ('o', 'DET'), ('field', 'NOUN'), ('goal', 'NOUN'), ('de', 'ADP'), ('32', 'NUM'), ('jardas', 'NOUN'), ('para', 'SCONJ'), ('abrir', 'VERB'), ('o', 'DET'), ('placar', 'NOUN'), ('.', 'PUNCT'), ('\\n\\n', 'SPACE'), ('Eli', 'PROPN'), ('Manning', 'PROPN'), ('e', 'CCONJ'), ('companhia', 'NOUN'), ('ficaram', 'VERB'), ('9m54s', 'NUM'), ('com', 'ADP'), ('a', 'DET'), ('bola', 'NOUN'), (',', 'PUNCT'), ('mas', 'CCONJ'), ('o', 'DET'), ('ataque', 'NOUN'), ('dos', 'ADP'), ('Patriots', 'PROPN'), ('não', 'ADV'), ('entrou', 'VERB'), ('em', 'ADP'), ('campo', 'NOUN'), ('frio', 'ADJ'), ('.', 'PUNCT'), ('Logo', 'ADV'), ('no', 'ADP'), ('retorno', 'NOUN'), ('do', 'ADP'), ('kickoff', 'NOUN'), (',', 'PUNCT'), ('o', 'DET'), ('running', 'NOUN'), ('back', 'PROPN'), ('Laurence', 'PROPN'), ('Maroney', 'PROPN'), ('avançou', 'VERB'), ('43', 'NUM'), ('jardas', 'NOUN'), (',', 'PUNCT'), ('deixando', 'VERB'), ('Tom', 'PROPN'), ('Brady', 'PROPN'), ('em', 'ADP'), ('boa', 'ADJ'), ('posição', 'NOUN'), ('.', 'PUNCT'), ('Com', 'ADP'), ('passes', 'NOUN'), ('curtos', 'ADJ'), (',', 'PUNCT'), ('os', 'DET'), ('Patriots', 'PROPN'), ('chegaram', 'VERB'), ('à', 'ADP'), ('linha', 'NOUN'), ('de', 'ADP'), ('17', 'NUM'), ('jardas', 'NOUN'), ('e', 'CCONJ'), (',', 'PUNCT'), ('graças', 'ADV'), ('a', 'ADP'), ('uma', 'DET'), ('penalidade', 'NOUN'), ('(', 'PUNCT'), ('interferência', 'NOUN'), ('de', 'ADP'), ('passe', 'NOUN'), (')', 'PUNCT'), ('do', 'ADP'), ('linebacker', 'NOUN'), ('Antonio', 'PROPN'), ('Pierce', 'PROPN'), (',', 'PUNCT'), ('alcançaram', 'VERB'), ('a', 'DET'), ('linha', 'NOUN'), ('de', 'ADP'), ('uma', 'DET'), ('jarda', 'NOUN'), ('.', 'PUNCT'), ('Maroney', 'PROPN'), ('avançou', 'VERB'), ('pelo', 'ADP'), ('chão', 'NOUN'), ('e', 'CCONJ'), ('anotou', 'VERB'), ('o', 'DET'), ('primeiro', 'ADJ'), ('touchdown', 'NOUN'), ('do', 'ADP'), ('jogo', 'NOUN'), ('.', 'PUNCT'), ('\\n\\n', 'SPACE'), ('Os', 'DET'), ('Giants', 'PROPN'), ('pareciam', 'VERB'), ('rumo', 'ADV'), ('à', 'ADP'), ('virada', 'NOUN'), ('na', 'ADP'), ('campanha', 'NOUN'), ('seguinte', 'ADJ'), ('.', 'PUNCT'), ('Manning', 'PROPN'), ('achou', 'VERB'), ('Amani', 'PROPN'), ('Toomer', 'PROPN'), ('para', 'ADP'), ('um', 'DET'), ('avanço', 'NOUN'), ('de', 'ADP'), ('38', 'NUM'), ('jardas', 'NOUN'), (',', 'PUNCT'), ('e', 'CCONJ'), ('o', 'DET'), ('time', 'NOUN'), ('de', 'ADP'), ('Nova', 'PROPN'), ('York', 'PROPN'), ('entrou', 'VERB'), ('novamente', 'ADV'), ('na', 'ADP'), ('red', 'ADJ'), ('zone', 'NOUN'), ('.', 'PUNCT'), ('Com', 'ADP'), ('a', 'DET'), ('bola', 'NOUN'), ('na', 'ADP'), ('linha', 'NOUN'), ('de', 'ADP'), ('14', 'NUM'), ('jardas', 'NOUN'), ('dos', 'ADP'), ('Patriots', 'PROPN'), (',', 'PUNCT'), ('os', 'DET'), ('Giants', 'PROPN'), ('sofreram', 'VERB'), ('um', 'DET'), ('revés', 'NOUN'), ('.', 'PUNCT'), ('Manning', 'PROPN'), ('passou', 'VERB'), ('para', 'ADP'), ('Steve', 'PROPN'), ('Smith', 'PROPN'), (',', 'PUNCT'), ('que', 'PRON'), ('soltou', 'VERB'), ('a', 'DET'), ('bola', 'NOUN'), ('.', 'PUNCT'), ('Ellis', 'PROPN'), ('Hobbs', 'PROPN'), ('aproveitou', 'VERB'), (',', 'PUNCT'), ('tomou', 'VERB'), ('a', 'DET'), ('posse', 'NOUN'), ('para', 'ADP'), ('os', 'DET'), ('Patriots', 'PROPN'), (',', 'PUNCT'), ('e', 'CCONJ'), ('avançou', 'VERB'), ('23', 'NUM'), ('jardas', 'NOUN'), ('.', 'PUNCT'), ('\\n\\n', 'SPACE'), ('A', 'DET'), ('defesa', 'NOUN'), ('de', 'ADP'), ('Nova', 'PROPN'), ('York', 'PROPN'), ('manteve', 'VERB'), ('o', 'DET'), ('jogo', 'NOUN'), ('equilibrado', 'ADJ'), ('.', 'PUNCT'), ('Com', 'ADP'), ('dois', 'NUM'), ('sacks', 'NOUN'), ('seguidos', 'VERB'), (',', 'PUNCT'), ('os', 'DET'), ('Giants', 'PROPN'), ('forçaram', 'VERB'), ('o', 'DET'), ('punt', 'NOUN'), ('e', 'CCONJ'), ('recuperaram', 'VERB'), ('a', 'DET'), ('bola', 'NOUN'), ('.', 'PUNCT'), ('Mas', 'CCONJ'), ('a', 'DET'), ('campanha', 'NOUN'), ('seguinte', 'ADJ'), ('provou', 'VERB'), ('ser', 'AUX'), ('outra', 'DET'), ('decepção', 'NOUN'), ('para', 'ADP'), ('Nova', 'PROPN'), ('York', 'PROPN'), ('.', 'PUNCT'), ('O', 'DET'), ('time', 'NOUN'), ('chegou', 'VERB'), ('à', 'ADP'), ('linha', 'NOUN'), ('de', 'ADP'), ('25', 'NUM'), ('jardas', 'NOUN'), (',', 'PUNCT'), ('mas', 'CCONJ'), ('Manning', 'PROPN'), ('sofreu', 'VERB'), ('um', 'DET'), ('sack', 'NOUN'), ('e', 'CCONJ'), ('cometeu', 'VERB'), ('um', 'DET'), ('fumble', 'NOUN'), (',', 'PUNCT'), ('e', 'CCONJ'), ('o', 'DET'), ('ataque', 'NOUN'), ('voltou', 'VERB'), ('para', 'ADP'), ('a', 'DET'), ('linha', 'NOUN'), ('de', 'ADP'), ('39', 'NUM'), ('jardas', 'NOUN'), (',', 'PUNCT'), ('não', 'ADV'), ('conseguindo', 'VERB'), ('pontuar', 'VERB'), ('mais', 'ADV'), ('uma', 'ADP'), ('vez', 'NOUN'), ('.', 'PUNCT'), ('\\n\\n', 'SPACE'), ('Os', 'DET'), ('Patriots', 'PROPN'), ('tiveram', 'VERB'), ('uma', 'DET'), ('última', 'ADJ'), ('chance', 'NOUN'), ('de', 'SCONJ'), ('marcar', 'VERB'), ('antes', 'ADV'), ('do', 'ADP'), ('intervalo', 'NOUN'), (',', 'PUNCT'), ('mas', 'CCONJ'), (',', 'PUNCT'), ('a', 'ADP'), ('22', 'NUM'), ('segundos', 'NOUN'), ('do', 'ADP'), ('fim', 'NOUN'), ('do', 'ADP'), ('segundo', 'ADJ'), ('período', 'NOUN'), (',', 'PUNCT'), ('Brady', 'PROPN'), ('foi', 'AUX'), ('novamente', 'ADV'), ('sacado', 'VERB'), ('.', 'PUNCT'), ('Desta', 'ADP'), ('vez', 'NOUN'), (',', 'PUNCT'), ('ele', 'PRON'), ('cometeu', 'VERB'), ('o', 'DET'), ('fumble', 'NOUN'), ('e', 'CCONJ'), ('os', 'DET'), ('Giants', 'PROPN'), ('tomaram', 'VERB'), ('a', 'DET'), ('posse', 'NOUN'), ('de', 'ADP'), ('bola', 'NOUN'), ('.', 'PUNCT'), ('Manning', 'PROPN'), ('tentou', 'VERB'), ('um', 'DET'), ('passe', 'NOUN'), ('longo', 'ADJ'), (',', 'PUNCT'), ('de', 'ADP'), ('50', 'NUM'), ('jardas', 'NOUN'), (',', 'PUNCT'), ('nos', 'ADP'), ('últimos', 'ADJ'), ('segundos', 'NOUN'), (',', 'PUNCT'), ('mas', 'CCONJ'), ('não', 'ADV'), ('teve', 'VERB'), ('sucesso', 'NOUN'), ('.', 'PUNCT'), ('\\n\\n', 'SPACE'), ('O', 'DET'), ('jogo', 'NOUN'), ('continuou', 'VERB'), ('amarrado', 'VERB'), ('no', 'ADP'), ('terceiro', 'ADJ'), ('quarto', 'NOUN'), (',', 'PUNCT'), ('com', 'ADP'), ('as', 'DET'), ('defesas', 'NOUN'), ('levando', 'VERB'), ('a', 'DET'), ('melhor', 'ADV'), ('sobre', 'ADP'), ('os', 'DET'), ('ataques', 'NOUN'), ('.', 'PUNCT'), ('A', 'DET'), ('única', 'ADJ'), ('chance', 'NOUN'), ('de', 'SCONJ'), ('pontuar', 'VERB'), ('do', 'ADP'), ('período', 'NOUN'), ('foi', 'AUX'), ('dos', 'ADP'), ('Patriots', 'PROPN'), (',', 'PUNCT'), ('que', 'PRON'), ('chegaram', 'VERB'), ('à', 'ADP'), ('linha', 'NOUN'), ('de', 'ADP'), ('31', 'NUM'), ('jardas', 'NOUN'), ('dos', 'ADP'), ('Giants', 'PROPN'), ('.', 'PUNCT'), ('O', 'DET'), ('técnico', 'NOUN'), ('Bill', 'PROPN'), ('Bellichick', 'PROPN'), (',', 'PUNCT'), ('porém', 'CCONJ'), (',', 'PUNCT'), ('optou', 'VERB'), ('por', 'ADP'), ('uma', 'DET'), ('quarta', 'ADJ'), ('descida', 'NOUN'), ('em', 'ADP'), ('vez', 'NOUN'), ('de', 'ADP'), ('um', 'DET'), ('field', 'NOUN'), ('goal', 'PROPN'), ('.', 'PUNCT'), ('Brady', 'PROPN'), ('tentou', 'VERB'), ('um', 'DET'), ('passe', 'NOUN'), ('para', 'ADP'), ('Jabar', 'PROPN'), ('Gaffney', 'PROPN'), (',', 'PUNCT'), ('mas', 'CCONJ'), ('não', 'ADV'), ('conseguiu', 'VERB'), ('completar', 'VERB'), ('.', 'PUNCT'), ('\\n\\n', 'SPACE'), ('O', 'DET'), ('último', 'ADJ'), ('período', 'NOUN'), ('começou', 'VERB'), ('arrasador', 'NOUN'), ('para', 'ADP'), ('os', 'DET'), ('Giants', 'PROPN'), ('.', 'PUNCT'), ('na', 'ADP'), ('primeira', 'ADJ'), ('jogada', 'NOUN'), (',', 'PUNCT'), ('Manning', 'PROPN'), ('achou', 'VERB'), ('o', 'DET'), ('tight', 'NOUN'), ('end', 'X'), ('Kevin', 'PROPN'), ('Boss', 'PROPN'), (',', 'PUNCT'), ('para', 'ADP'), ('um', 'DET'), ('incrível', 'ADJ'), ('avanço', 'NOUN'), ('de', 'ADP'), ('45', 'NUM'), ('jardas', 'NOUN'), (',', 'PUNCT'), ('que', 'PRON'), ('deixou', 'VERB'), ('o', 'DET'), ('time', 'NOUN'), ('na', 'ADP'), ('linha', 'NOUN'), ('de', 'ADP'), ('35', 'NUM'), ('dos', 'ADP'), ('Patriots', 'PROPN'), ('.', 'PUNCT'), ('Outro', 'DET'), ('lançamento', 'NOUN'), (',', 'PUNCT'), ('desta', 'ADP'), ('vez', 'NOUN'), ('para', 'ADP'), ('Steve', 'PROPN'), ('Smith', 'PROPN'), (',', 'PUNCT'), ('marcou', 'VERB'), ('o', 'DET'), ('avanço', 'NOUN'), ('até', 'ADP'), ('a', 'DET'), ('linha', 'NOUN'), ('de', 'ADP'), ('12', 'NUM'), ('jardas', 'NOUN'), ('.', 'PUNCT'), ('Duas', 'NUM'), ('jogadas', 'NOUN'), ('depois', 'ADV'), (',', 'PUNCT'), ('David', 'PROPN'), ('Tyree', 'PROPN'), ('pegou', 'VERB'), ('um', 'DET'), ('passe', 'NOUN'), ('de', 'ADP'), ('cinco', 'NUM'), ('jardas', 'NOUN'), ('na', 'ADP'), ('end', 'X'), ('zone', 'X'), ('para', 'SCONJ'), ('anotar', 'VERB'), ('o', 'DET'), ('touchdown', 'NOUN'), ('e', 'CCONJ'), ('virar', 'VERB'), ('o', 'DET'), ('jogo', 'NOUN'), ('.', 'PUNCT'), ('\\n\\n', 'SPACE'), ('Na', 'ADP'), ('hora', 'NOUN'), ('da', 'ADP'), ('decisão', 'NOUN'), (',', 'PUNCT'), ('o', 'DET'), ('ataque', 'NOUN'), ('dos', 'ADP'), ('Patriots', 'PROPN'), ('voltou', 'VERB'), ('a', 'SCONJ'), ('funcionar', 'VERB'), ('.', 'PUNCT'), ('Com', 'ADP'), ('uma', 'DET'), ('série', 'NOUN'), ('de', 'ADP'), ('passes', 'NOUN'), ('curtos', 'ADJ'), ('e', 'CCONJ'), ('variados', 'ADJ'), (',', 'PUNCT'), ('Brady', 'PROPN'), ('achou', 'VERB'), ('Wes', 'PROPN'), ('Welker', 'PROPN'), (',', 'PUNCT'), ('Randy', 'PROPN'), ('Moss', 'PROPN'), ('e', 'CCONJ'), ('Kevin', 'PROPN'), ('Faulk', 'PROPN'), ('seguidas', 'VERB'), ('vezes', 'NOUN'), ('até', 'ADV'), ('chegar', 'VERB'), ('à', 'ADP'), ('red', 'ADJ'), ('zone', 'NOUN'), ('.', 'PUNCT'), ('A', 'DET'), ('2m45s', 'PROPN'), ('do', 'ADP'), ('fim', 'NOUN'), (',', 'PUNCT'), ('o', 'DET'), ('quarterback', 'NOUN'), ('conectou', 'VERB'), ('mais', 'ADV'), ('uma', 'ADP'), ('vez', 'NOUN'), ('com', 'ADP'), ('Moss', 'PROPN'), (',', 'PUNCT'), ('que', 'PRON'), ('se', 'PRON'), ('desmarcou', 'VERB'), ('e', 'CCONJ'), ('ficou', 'VERB'), ('livre', 'ADJ'), ('na', 'ADP'), ('lateral', 'NOUN'), ('direita', 'ADJ'), ('da', 'ADP'), ('end', 'X'), ('zone', 'X'), ('.', 'PUNCT'), ('\\n\\n', 'SPACE'), ('Quando', 'SCONJ'), ('os', 'DET'), ('fãs', 'NOUN'), ('de', 'ADP'), ('New', 'PROPN'), ('England', 'PROPN'), ('já', 'ADV'), ('comemoravam', 'VERB'), ('a', 'DET'), ('vitória', 'NOUN'), (',', 'PUNCT'), ('o', 'DET'), ('inesperado', 'NOUN'), ('aconteceu', 'VERB'), ('.', 'PUNCT'), ('Em', 'ADP'), ('uma', 'DET'), ('jogada', 'NOUN'), ('incrível', 'ADJ'), (',', 'PUNCT'), ('Eli', 'PROPN'), ('Manning', 'PROPN'), ('se', 'PRON'), ('soltou', 'VERB'), ('de', 'ADP'), ('dois', 'NUM'), ('marcadores', 'NOUN'), ('que', 'PRON'), ('o', 'PRON'), ('seguravam', 'VERB'), ('pela', 'ADP'), ('camisa', 'NOUN'), ('e', 'CCONJ'), (',', 'PUNCT'), ('na', 'ADP'), ('corrida', 'NOUN'), (',', 'PUNCT'), ('lançou', 'VERB'), ('para', 'ADP'), ('Amani', 'PROPN'), ('Toomer', 'PROPN'), ('.', 'PUNCT'), ('O', 'DET'), ('wide', 'NOUN'), ('receiver', 'X'), (',', 'PUNCT'), ('bem', 'ADV'), ('marcado', 'VERB'), (',', 'PUNCT'), ('saltou', 'VERB'), ('e', 'CCONJ'), ('conseguiu', 'VERB'), ('a', 'SCONJ'), ('fazer', 'VERB'), ('recepção', 'NOUN'), ('para', 'ADP'), ('um', 'DET'), ('avanço', 'NOUN'), ('de', 'ADP'), ('32', 'NUM'), ('jardas', 'NOUN'), (',', 'PUNCT'), ('deixando', 'VERB'), ('os', 'DET'), ('Giants', 'PROPN'), ('na', 'ADP'), ('linha', 'NOUN'), ('de', 'ADP'), ('24', 'NUM'), ('de', 'ADP'), ('New', 'PROPN'), ('England', 'PROPN'), ('.', 'PUNCT'), ('\\n\\n', 'SPACE'), ('Quatro', 'NUM'), ('jogadas', 'NOUN'), ('depois', 'ADV'), (',', 'PUNCT'), ('a', 'ADP'), ('39', 'NUM'), ('segundos', 'NOUN'), ('do', 'ADP'), ('fim', 'NOUN'), (',', 'PUNCT'), ('Manning', 'PROPN'), ('achou', 'VERB'), ('Plaxico', 'PROPN'), ('Burress', 'PROPN'), ('na', 'ADP'), ('end', 'PROPN'), ('zone', 'X'), ('para', 'SCONJ'), ('conseguir', 'VERB'), ('o', 'DET'), ('touchdown', 'NOUN'), ('do', 'ADP'), ('título', 'NOUN'), ('.', 'PUNCT')]\n"
          ]
        }
      ]
    },
    {
      "cell_type": "code",
      "metadata": {
        "colab": {
          "base_uri": "https://localhost:8080/"
        },
        "id": "RoXrL9aheq7h",
        "outputId": "38c6a056-fb73-424e-a11f-c0dffd21d3cc"
      },
      "source": [
        "morfologicas = [(token.orth_,token.morph)for token in doc1] ## Analise morfológica da palavra \n",
        "print(morfologicas)"
      ],
      "execution_count": null,
      "outputs": [
        {
          "output_type": "stream",
          "name": "stdout",
          "text": [
            "[('Giants', Gender=Masc|Number=Sing), ('batem', Mood=Ind|Number=Plur|Person=3|Tense=Pres|VerbForm=Fin), ('os', Definite=Def|Gender=Masc|Number=Plur|PronType=Art), ('Patriots', Gender=Masc|Number=Plur), ('no', Definite=Def|Gender=Masc|Number=Sing|PronType=Art), ('Super', Gender=Masc|Number=Sing), ('Bowl', Number=Sing), ('XLII', Number=Sing), ('\\n', ), ('Azarões', Number=Sing), ('acabam', Mood=Ind|Number=Plur|Person=3|Tense=Pres|VerbForm=Fin), ('com', ), ('a', Definite=Def|Gender=Fem|Number=Sing|PronType=Art), ('invencibilidade', Gender=Fem|Number=Sing), ('de', ), ('New', Gender=Masc|Number=Sing), ('England', Number=Sing), ('e', ), ('ficam', Mood=Ind|Number=Plur|Person=3|Tense=Pres|VerbForm=Fin), ('com', ), ('o', Definite=Def|Gender=Masc|Number=Sing|PronType=Art), ('título', Gender=Masc|Number=Sing), ('da', Definite=Def|Gender=Fem|Number=Sing|PronType=Art), ('temporada', Gender=Fem|Number=Sing), ('\\n', ), ('04/02/2008', NumType=Card), ('-', ), ('01h07', NumType=Card), ('m', NumType=Card), ('-', ), ('Atualizado', Gender=Masc|Number=Sing|VerbForm=Part), ('em', ), ('04/02/2008', NumType=Card), ('-', ), ('09h49', NumType=Card), ('m', ), ('\\n\\n', ), ('Com', ), ('um', Definite=Ind|Gender=Masc|Number=Sing|PronType=Art), ('passe', Gender=Masc|Number=Sing), ('de', ), ('Eli', Gender=Masc|Number=Sing), ('Manning', Number=Sing), ('para', ), ('Plaxico', Gender=Masc|Number=Sing), ('Burress', Number=Sing), ('a', ), ('39', NumType=Card), ('segundos', Gender=Masc|Number=Plur), ('do', Definite=Def|Gender=Masc|Number=Sing|PronType=Art), ('fim', Gender=Masc|Number=Sing), (',', ), ('o', Definite=Def|Gender=Masc|Number=Sing|PronType=Art), ('New', Gender=Masc|Number=Sing), ('York', Number=Sing), ('Giants', Number=Sing), ('anotou', Mood=Ind|Number=Sing|Person=3|Tense=Past|VerbForm=Fin), ('o', Definite=Def|Gender=Masc|Number=Sing|PronType=Art), ('touchdown', Gender=Masc|Number=Sing), ('decisivo', Gender=Masc|Number=Sing), ('e', ), ('derrubou', Mood=Ind|Number=Sing|Person=3|Tense=Past|VerbForm=Fin), ('o', Definite=Def|Gender=Masc|Number=Sing|PronType=Art), ('favorito', Gender=Masc|Number=Sing), ('New', Gender=Masc|Number=Sing), ('England', Number=Sing), ('Patriots', Number=Sing), ('por', ), ('17', NumType=Card), ('a', ), ('14', NumType=Card), ('neste', Gender=Masc|Number=Sing|PronType=Dem), ('domingo', Gender=Masc|Number=Sing), (',', ), ('em', ), ('Glendale', Gender=Masc|Number=Sing), (',', ), ('no', Definite=Def|Gender=Masc|Number=Sing|PronType=Art), ('Super', Gender=Masc|Number=Sing), ('Bowl', Number=Sing), ('XLII', Number=Sing), ('.', ), ('O', Definite=Def|Gender=Masc|Number=Sing|PronType=Art), ('resultado', Gender=Masc|Number=Sing), (',', ), ('uma', NumType=Card), ('das', Definite=Def|Gender=Fem|Number=Plur|PronType=Art), ('maiores', Gender=Fem|Number=Plur), ('zebras', Gender=Fem|Number=Plur), ('da', Definite=Def|Gender=Fem|Number=Sing|PronType=Art), ('história', Gender=Fem|Number=Sing), ('do', Definite=Def|Gender=Masc|Number=Sing|PronType=Art), ('Super', Gender=Masc|Number=Sing), ('Bowl', Number=Sing), (',', ), ('acabou', Mood=Ind|Number=Sing|Person=3|Tense=Past|VerbForm=Fin), ('com', ), ('a', Definite=Def|Gender=Fem|Number=Sing|PronType=Art), ('temporada', Gender=Fem|Number=Sing), ('perfeita', Gender=Fem|Number=Sing), ('de', ), ('Tom', Gender=Masc|Number=Sing), ('Brady', Number=Sing), ('e', ), ('companhia', Gender=Fem|Number=Sing), (',', ), ('que', Gender=Fem|Number=Sing|PronType=Rel), ('esperavam', Mood=Ind|Number=Plur|Person=3|Tense=Imp|VerbForm=Fin), ('fazer', VerbForm=Inf), ('história', Gender=Fem|Number=Sing), ('ao', Definite=Def|Gender=Masc|Number=Sing|PronType=Art), ('levantar', VerbForm=Inf), ('o', Definite=Def|Gender=Masc|Number=Sing|PronType=Art), ('troféu', Gender=Masc|Number=Sing), ('da', Definite=Def|Gender=Fem|Number=Sing|PronType=Art), ('NFL', Gender=Fem|Number=Sing), ('sem', ), ('sofrer', VerbForm=Inf), ('uma', Definite=Ind|Gender=Fem|Number=Sing|PronType=Art), ('derrota', Gender=Fem|Number=Sing), ('no', Definite=Def|Gender=Masc|Number=Sing|PronType=Art), ('ano', Gender=Masc|Number=Sing), ('.', ), ('\\n\\n', ), ('A', Definite=Def|Gender=Fem|Number=Sing|PronType=Art), ('vitória', Gender=Fem|Number=Sing), ('dos', Definite=Def|Gender=Masc|Number=Plur|PronType=Art), ('Giants', Gender=Masc|Number=Plur), (',', ), ('porém', ), (',', ), ('também', ), ('ficará', Mood=Ind|Number=Sing|Person=3|Tense=Fut|VerbForm=Fin), ('para', ), ('a', Definite=Def|Gender=Fem|Number=Sing|PronType=Art), ('história', Gender=Fem|Number=Sing), ('.', ), ('Pela', Gender=Masc|Number=Sing), ('primeira', ), ('vez', Gender=Masc|Number=Sing), (',', ), ('irmãos', Gender=Masc|Number=Plur), ('quarterbacks', Gender=Masc|Number=Plur), ('triunfam', Mood=Ind|Number=Sing|Person=3|Tense=Pres|VerbForm=Fin), ('no', Definite=Def|Gender=Masc|Number=Sing|PronType=Art), ('Super', Gender=Masc|Number=Sing), ('Bowl', Number=Sing), ('em', ), ('temporadas', Gender=Fem|Number=Plur), ('consecutivas', Gender=Fem|Number=Plur), ('.', ), ('No', Definite=Def|Gender=Masc|Number=Sing|PronType=Art), ('ano', Gender=Masc|Number=Sing), ('passado', Gender=Masc|Number=Sing), (',', ), ('Peyton', Gender=Masc|Number=Sing), ('Manning', Number=Sing), (',', ), ('irmão', Gender=Masc|Number=Sing), ('de', ), ('Eli', Gender=Masc|Number=Sing), (',', ), ('chegou', Mood=Ind|Number=Sing|Person=3|Tense=Past|VerbForm=Fin), ('ao', Definite=Def|Gender=Masc|Number=Sing|PronType=Art), ('título', Gender=Masc|Number=Sing), ('máximo', Gender=Masc|Number=Sing), ('da', Definite=Def|Gender=Fem|Number=Sing|PronType=Art), ('NFL', Gender=Fem|Number=Sing), ('pelo', Definite=Def|Gender=Masc|Number=Sing|PronType=Art), ('Indianapolis', Gender=Masc|Number=Sing), ('Colts', Number=Sing), ('.', ), ('\\n\\n', ), ('A', Definite=Def|Gender=Fem|Number=Sing|PronType=Art), ('partida', Gender=Fem|Number=Sing), ('\\n\\n', ), ('Os', Definite=Def|Gender=Masc|Number=Plur|PronType=Art), ('Giants', Gender=Masc|Number=Plur), ('começaram', Mood=Ind|Number=Plur|Person=3|Tense=Past|VerbForm=Fin), ('com', ), ('a', Definite=Def|Gender=Fem|Number=Sing|PronType=Art), ('posse', Gender=Fem|Number=Sing), ('de', ), ('bola', Gender=Fem|Number=Sing), (',', ), ('e', ), ('mostraram', Mood=Ind|Number=Plur|Person=3|Tense=Past|VerbForm=Fin), ('logo', ), ('que', ), ('iriam', Mood=Cnd|Number=Plur|Person=3|VerbForm=Fin), ('alongar', VerbForm=Inf), ('ao', Definite=Def|Gender=Masc|Number=Sing|PronType=Art), ('máximo', Gender=Masc|Number=Sing), ('suas', Gender=Fem|Number=Plur|PronType=Prs), ('posses', Gender=Fem|Number=Plur), ('de', ), ('bola', Gender=Fem|Number=Sing), ('.', ), ('Misturando', VerbForm=Ger), ('corridas', Gender=Fem|Number=Plur), ('com', ), ('Brandon', Gender=Masc|Number=Sing), ('Jacobs', Number=Sing), ('e', ), ('passes', Gender=Masc|Number=Plur), ('curtos', Gender=Masc|Number=Plur), (',', ), ('o', Definite=Def|Gender=Masc|Number=Sing|PronType=Art), ('time', Gender=Masc|Number=Sing), ('de', ), ('Nova', Gender=Fem|Number=Sing), ('York', Number=Sing), ('chegou', Mood=Ind|Number=Sing|Person=3|Tense=Past|VerbForm=Fin), ('à', Definite=Def|Gender=Fem|Number=Sing|PronType=Art), ('red', Gender=Masc|Number=Sing), ('zone', Gender=Masc|Number=Sing), ('logo', ), ('na', Definite=Def|Gender=Fem|Number=Sing|PronType=Art), ('primeira', Gender=Fem|NumType=Ord|Number=Sing), ('campanha', Gender=Fem|Number=Sing), ('.', ), ('O', Definite=Def|Gender=Masc|Number=Sing|PronType=Art), ('avanço', Gender=Masc|Number=Sing), (',', ), ('no', Definite=Def|Gender=Masc|Number=Sing|PronType=Art), ('entanto', Gender=Masc|Number=Sing), (',', ), ('parou', Mood=Ind|Number=Sing|Person=3|Tense=Past|VerbForm=Fin), ('na', Definite=Def|Gender=Fem|Number=Sing|PronType=Art), ('linha', Gender=Fem|Number=Sing), ('de', ), ('17', NumType=Card), ('jardas', Gender=Fem|Number=Plur), ('e', ), ('Lawrence', Gender=Masc|Number=Sing), ('Tynes', Number=Sing), ('converteu', Mood=Ind|Number=Sing|Person=3|Tense=Past|VerbForm=Fin), ('o', Definite=Def|Gender=Masc|Number=Sing|PronType=Art), ('field', Gender=Masc|Number=Sing), ('goal', Gender=Masc|Number=Sing), ('de', ), ('32', NumType=Card), ('jardas', Gender=Fem|Number=Plur), ('para', ), ('abrir', VerbForm=Inf), ('o', Definite=Def|Gender=Masc|Number=Sing|PronType=Art), ('placar', Gender=Masc|Number=Sing), ('.', ), ('\\n\\n', ), ('Eli', Gender=Masc|Number=Sing), ('Manning', Number=Sing), ('e', ), ('companhia', Gender=Fem|Number=Sing), ('ficaram', Mood=Ind|Number=Plur|Person=3|Tense=Past|VerbForm=Fin), ('9m54s', NumType=Card), ('com', ), ('a', Definite=Def|Gender=Fem|Number=Sing|PronType=Art), ('bola', Gender=Fem|Number=Sing), (',', ), ('mas', ), ('o', Definite=Def|Gender=Masc|Number=Sing|PronType=Art), ('ataque', Gender=Masc|Number=Sing), ('dos', Definite=Def|Gender=Masc|Number=Plur|PronType=Art), ('Patriots', Gender=Masc|Number=Plur), ('não', Polarity=Neg), ('entrou', Mood=Ind|Number=Sing|Person=3|Tense=Past|VerbForm=Fin), ('em', ), ('campo', Gender=Masc|Number=Sing), ('frio', Gender=Masc|Number=Sing), ('.', ), ('Logo', ), ('no', Definite=Def|Gender=Masc|Number=Sing|PronType=Art), ('retorno', Gender=Masc|Number=Sing), ('do', Definite=Def|Gender=Masc|Number=Sing|PronType=Art), ('kickoff', Gender=Masc|Number=Sing), (',', ), ('o', Definite=Def|Gender=Masc|Number=Sing|PronType=Art), ('running', Gender=Masc|Number=Sing), ('back', Number=Sing), ('Laurence', Gender=Masc|Number=Sing), ('Maroney', Number=Sing), ('avançou', Mood=Ind|Number=Sing|Person=3|Tense=Past|VerbForm=Fin), ('43', NumType=Card), ('jardas', Gender=Fem|Number=Plur), (',', ), ('deixando', VerbForm=Ger), ('Tom', Gender=Masc|Number=Sing), ('Brady', Number=Sing), ('em', ), ('boa', Gender=Fem|Number=Sing), ('posição', Gender=Fem|Number=Sing), ('.', ), ('Com', ), ('passes', Gender=Masc|Number=Plur), ('curtos', Gender=Masc|Number=Plur), (',', ), ('os', Definite=Def|Gender=Masc|Number=Plur|PronType=Art), ('Patriots', Gender=Masc|Number=Plur), ('chegaram', Mood=Ind|Number=Plur|Person=3|VerbForm=Fin), ('à', Definite=Def|Gender=Fem|Number=Sing|PronType=Art), ('linha', Gender=Fem|Number=Sing), ('de', ), ('17', NumType=Card), ('jardas', Gender=Fem|Number=Plur), ('e', ), (',', ), ('graças', ), ('a', ), ('uma', Definite=Ind|Gender=Fem|Number=Sing|PronType=Art), ('penalidade', Gender=Fem|Number=Sing), ('(', ), ('interferência', Gender=Fem|Number=Sing), ('de', ), ('passe', Gender=Masc|Number=Sing), (')', ), ('do', Definite=Def|Gender=Masc|Number=Sing|PronType=Art), ('linebacker', Gender=Masc|Number=Sing), ('Antonio', Gender=Masc|Number=Sing), ('Pierce', Number=Sing), (',', ), ('alcançaram', Mood=Ind|Number=Plur|Person=3|VerbForm=Fin), ('a', Definite=Def|Gender=Fem|Number=Sing|PronType=Art), ('linha', Gender=Fem|Number=Sing), ('de', ), ('uma', Definite=Ind|Gender=Fem|Number=Sing|PronType=Art), ('jarda', Gender=Fem|Number=Sing), ('.', ), ('Maroney', Gender=Masc|Number=Sing), ('avançou', Mood=Ind|Number=Sing|Person=3|Tense=Past|VerbForm=Fin), ('pelo', Definite=Def|Gender=Masc|Number=Sing|PronType=Art), ('chão', Gender=Masc|Number=Sing), ('e', ), ('anotou', Mood=Ind|Number=Sing|Person=3|Tense=Past|VerbForm=Fin), ('o', Definite=Def|Gender=Masc|Number=Sing|PronType=Art), ('primeiro', Gender=Masc|NumType=Ord|Number=Sing), ('touchdown', Gender=Masc|Number=Sing), ('do', Definite=Def|Gender=Masc|Number=Sing|PronType=Art), ('jogo', Gender=Masc|Number=Sing), ('.', ), ('\\n\\n', ), ('Os', Definite=Def|Gender=Masc|Number=Plur|PronType=Art), ('Giants', Gender=Masc|Number=Plur), ('pareciam', Mood=Ind|Number=Plur|Person=3|Tense=Imp|VerbForm=Fin), ('rumo', ), ('à', Definite=Def|Gender=Fem|Number=Sing|PronType=Art), ('virada', Gender=Fem|Number=Sing), ('na', Definite=Def|Gender=Fem|Number=Sing|PronType=Art), ('campanha', Gender=Fem|Number=Sing), ('seguinte', Gender=Fem|Number=Sing), ('.', ), ('Manning', Gender=Masc|Number=Sing), ('achou', Mood=Ind|Number=Sing|Person=3|Tense=Past|VerbForm=Fin), ('Amani', Gender=Masc|Number=Sing), ('Toomer', Number=Sing), ('para', ), ('um', Definite=Ind|Gender=Masc|Number=Sing|PronType=Art), ('avanço', Gender=Masc|Number=Sing), ('de', ), ('38', NumType=Card), ('jardas', Gender=Fem|Number=Plur), (',', ), ('e', ), ('o', Definite=Def|Gender=Masc|Number=Sing|PronType=Art), ('time', Gender=Masc|Number=Sing), ('de', ), ('Nova', Gender=Fem|Number=Sing), ('York', Number=Sing), ('entrou', Mood=Ind|Number=Sing|Person=3|Tense=Past|VerbForm=Fin), ('novamente', ), ('na', Definite=Def|Gender=Fem|Number=Sing|PronType=Art), ('red', Gender=Masc|Number=Sing), ('zone', Gender=Masc|Number=Sing), ('.', ), ('Com', ), ('a', Definite=Def|Gender=Fem|Number=Sing|PronType=Art), ('bola', Gender=Fem|Number=Sing), ('na', Definite=Def|Gender=Fem|Number=Sing|PronType=Art), ('linha', Gender=Fem|Number=Sing), ('de', ), ('14', NumType=Card), ('jardas', Gender=Fem|Number=Plur), ('dos', Definite=Def|Gender=Masc|Number=Plur|PronType=Art), ('Patriots', Gender=Masc|Number=Plur), (',', ), ('os', Definite=Def|Gender=Masc|Number=Plur|PronType=Art), ('Giants', Gender=Masc|Number=Plur), ('sofreram', Mood=Ind|Number=Plur|Person=3|Tense=Past|VerbForm=Fin), ('um', Definite=Ind|Gender=Masc|Number=Sing|PronType=Art), ('revés', Gender=Masc|Number=Sing), ('.', ), ('Manning', Gender=Masc|Number=Sing), ('passou', Mood=Ind|Number=Sing|Person=3|Tense=Past|VerbForm=Fin), ('para', ), ('Steve', Gender=Masc|Number=Sing), ('Smith', Number=Sing), (',', ), ('que', Gender=Masc|Number=Sing|PronType=Rel), ('soltou', Mood=Ind|Number=Sing|Person=3|Tense=Past|VerbForm=Fin), ('a', Definite=Def|Gender=Fem|Number=Sing|PronType=Art), ('bola', Gender=Fem|Number=Sing), ('.', ), ('Ellis', Gender=Masc|Number=Sing), ('Hobbs', Number=Sing), ('aproveitou', Mood=Ind|Number=Sing|Person=3|Tense=Past|VerbForm=Fin), (',', ), ('tomou', Mood=Ind|Number=Sing|Person=3|Tense=Past|VerbForm=Fin), ('a', Definite=Def|Gender=Fem|Number=Sing|PronType=Art), ('posse', Gender=Fem|Number=Sing), ('para', ), ('os', Definite=Def|Gender=Masc|Number=Plur|PronType=Art), ('Patriots', Gender=Masc|Number=Plur), (',', ), ('e', ), ('avançou', Mood=Ind|Number=Sing|Person=3|Tense=Past|VerbForm=Fin), ('23', NumType=Card), ('jardas', Gender=Fem|Number=Plur), ('.', ), ('\\n\\n', ), ('A', Definite=Def|Gender=Fem|Number=Sing|PronType=Art), ('defesa', Gender=Fem|Number=Sing), ('de', ), ('Nova', Gender=Fem|Number=Sing), ('York', Number=Sing), ('manteve', Mood=Ind|Number=Sing|Person=3|Tense=Past|VerbForm=Fin), ('o', Definite=Def|Gender=Masc|Number=Sing|PronType=Art), ('jogo', Gender=Masc|Number=Sing), ('equilibrado', Gender=Masc|Number=Sing), ('.', ), ('Com', ), ('dois', NumType=Card), ('sacks', Gender=Masc|Number=Plur), ('seguidos', Gender=Masc|Number=Plur|VerbForm=Part), (',', ), ('os', Definite=Def|Gender=Masc|Number=Plur|PronType=Art), ('Giants', Gender=Masc|Number=Plur), ('forçaram', Mood=Ind|Number=Plur|Person=3|VerbForm=Fin), ('o', Definite=Def|Gender=Masc|Number=Sing|PronType=Art), ('punt', Gender=Masc|Number=Sing), ('e', ), ('recuperaram', Mood=Ind|Number=Plur|Person=3|Tense=Past|VerbForm=Fin), ('a', Definite=Def|Gender=Fem|Number=Sing|PronType=Art), ('bola', Gender=Fem|Number=Sing), ('.', ), ('Mas', ), ('a', Definite=Def|Gender=Fem|Number=Sing|PronType=Art), ('campanha', Gender=Fem|Number=Sing), ('seguinte', Gender=Fem|Number=Sing), ('provou', Mood=Ind|Number=Sing|Person=3|Tense=Past|VerbForm=Fin), ('ser', VerbForm=Inf), ('outra', Gender=Fem|Number=Sing|PronType=Ind), ('decepção', Gender=Fem|Number=Sing), ('para', ), ('Nova', Gender=Fem|Number=Sing), ('York', Number=Sing), ('.', ), ('O', Definite=Def|Gender=Masc|Number=Sing|PronType=Art), ('time', Gender=Masc|Number=Sing), ('chegou', Mood=Ind|Number=Sing|Person=3|Tense=Past|VerbForm=Fin), ('à', Definite=Def|Gender=Fem|Number=Sing|PronType=Art), ('linha', Gender=Fem|Number=Sing), ('de', ), ('25', NumType=Card), ('jardas', Gender=Fem|Number=Plur), (',', ), ('mas', ), ('Manning', Gender=Masc|Number=Sing), ('sofreu', Mood=Ind|Number=Sing|Person=3|Tense=Past|VerbForm=Fin), ('um', Definite=Ind|Gender=Masc|Number=Sing|PronType=Art), ('sack', Gender=Masc|Number=Sing), ('e', ), ('cometeu', Mood=Ind|Number=Sing|Person=3|Tense=Past|VerbForm=Fin), ('um', Definite=Ind|Gender=Masc|Number=Sing|PronType=Art), ('fumble', Gender=Masc|Number=Sing), (',', ), ('e', ), ('o', Definite=Def|Gender=Masc|Number=Sing|PronType=Art), ('ataque', Gender=Masc|Number=Sing), ('voltou', Mood=Ind|Number=Sing|Person=3|Tense=Past|VerbForm=Fin), ('para', ), ('a', Definite=Def|Gender=Fem|Number=Sing|PronType=Art), ('linha', Gender=Fem|Number=Sing), ('de', ), ('39', NumType=Card), ('jardas', Gender=Fem|Number=Plur), (',', ), ('não', Polarity=Neg), ('conseguindo', VerbForm=Ger), ('pontuar', VerbForm=Inf), ('mais', ), ('uma', ), ('vez', Gender=Masc|Number=Sing), ('.', ), ('\\n\\n', ), ('Os', Definite=Def|Gender=Masc|Number=Plur|PronType=Art), ('Patriots', Gender=Masc|Number=Plur), ('tiveram', Mood=Ind|Number=Plur|Person=3|Tense=Past|VerbForm=Fin), ('uma', Definite=Ind|Gender=Fem|Number=Sing|PronType=Art), ('última', Gender=Fem|NumType=Ord|Number=Sing), ('chance', Gender=Fem|Number=Sing), ('de', ), ('marcar', VerbForm=Inf), ('antes', ), ('do', Definite=Def|Gender=Masc|Number=Sing|PronType=Art), ('intervalo', Gender=Masc|Number=Sing), (',', ), ('mas', ), (',', ), ('a', ), ('22', NumType=Card), ('segundos', Gender=Masc|Number=Plur), ('do', Definite=Def|Gender=Masc|Number=Sing|PronType=Art), ('fim', Gender=Masc|Number=Sing), ('do', Definite=Def|Gender=Masc|Number=Sing|PronType=Art), ('segundo', Gender=Masc|NumType=Ord|Number=Sing), ('período', Gender=Masc|Number=Sing), (',', ), ('Brady', Gender=Masc|Number=Sing), ('foi', Mood=Ind|Number=Sing|Person=3|Tense=Past|VerbForm=Fin), ('novamente', ), ('sacado', Gender=Masc|Number=Sing|VerbForm=Part), ('.', ), ('Desta', ), ('vez', Gender=Fem|Number=Sing), (',', ), ('ele', Case=Nom|Gender=Masc|Number=Sing|Person=3|PronType=Prs), ('cometeu', Mood=Ind|Number=Sing|Person=3|Tense=Past|VerbForm=Fin), ('o', Definite=Def|Gender=Masc|Number=Sing|PronType=Art), ('fumble', Gender=Masc|Number=Sing), ('e', ), ('os', Definite=Def|Gender=Masc|Number=Plur|PronType=Art), ('Giants', Gender=Masc|Number=Plur), ('tomaram', Mood=Ind|Number=Plur|Person=3|VerbForm=Fin), ('a', Definite=Def|Gender=Fem|Number=Sing|PronType=Art), ('posse', Gender=Fem|Number=Sing), ('de', ), ('bola', Gender=Fem|Number=Sing), ('.', ), ('Manning', Gender=Masc|Number=Sing), ('tentou', Mood=Ind|Number=Sing|Person=3|Tense=Past|VerbForm=Fin), ('um', Definite=Ind|Gender=Masc|Number=Sing|PronType=Art), ('passe', Gender=Masc|Number=Sing), ('longo', Gender=Masc|Number=Sing), (',', ), ('de', ), ('50', NumType=Card), ('jardas', Gender=Fem|Number=Plur), (',', ), ('nos', Definite=Def|Gender=Masc|Number=Plur|PronType=Art), ('últimos', Gender=Masc|NumType=Ord|Number=Plur), ('segundos', Gender=Masc|Number=Plur), (',', ), ('mas', ), ('não', Polarity=Neg), ('teve', Mood=Ind|Number=Sing|Person=3|Tense=Past|VerbForm=Fin), ('sucesso', Gender=Masc|Number=Sing), ('.', ), ('\\n\\n', ), ('O', Definite=Def|Gender=Masc|Number=Sing|PronType=Art), ('jogo', Gender=Masc|Number=Sing), ('continuou', Mood=Ind|Number=Sing|Person=3|Tense=Past|VerbForm=Fin), ('amarrado', Gender=Masc|Number=Sing|VerbForm=Part), ('no', Definite=Def|Gender=Masc|Number=Sing|PronType=Art), ('terceiro', Gender=Masc|NumType=Ord|Number=Sing), ('quarto', Gender=Masc|Number=Sing), (',', ), ('com', ), ('as', Definite=Def|Gender=Fem|Number=Plur|PronType=Art), ('defesas', Gender=Fem|Number=Plur), ('levando', VerbForm=Ger), ('a', Definite=Def|Gender=Fem|Number=Sing|PronType=Art), ('melhor', ), ('sobre', ), ('os', Definite=Def|Gender=Masc|Number=Plur|PronType=Art), ('ataques', Gender=Masc|Number=Plur), ('.', ), ('A', Definite=Def|Gender=Fem|Number=Sing|PronType=Art), ('única', Gender=Fem|Number=Sing), ('chance', Gender=Fem|Number=Sing), ('de', ), ('pontuar', VerbForm=Inf), ('do', Definite=Def|Gender=Masc|Number=Sing|PronType=Art), ('período', Gender=Masc|Number=Sing), ('foi', Mood=Ind|Number=Sing|Person=3|Tense=Past|VerbForm=Fin), ('dos', Definite=Def|Gender=Masc|Number=Plur|PronType=Art), ('Patriots', Gender=Masc|Number=Plur), (',', ), ('que', Gender=Masc|Number=Plur|PronType=Rel), ('chegaram', Mood=Ind|Number=Plur|Person=3|Tense=Past|VerbForm=Fin), ('à', Definite=Def|Gender=Fem|Number=Sing|PronType=Art), ('linha', Gender=Fem|Number=Sing), ('de', ), ('31', NumType=Card), ('jardas', Gender=Fem|Number=Plur), ('dos', Definite=Def|Gender=Masc|Number=Plur|PronType=Art), ('Giants', Gender=Masc|Number=Sing), ('.', ), ('O', Definite=Def|Gender=Masc|Number=Sing|PronType=Art), ('técnico', Gender=Masc|Number=Sing), ('Bill', Gender=Masc|Number=Sing), ('Bellichick', Number=Sing), (',', ), ('porém', ), (',', ), ('optou', Mood=Ind|Number=Sing|Person=3|Tense=Past|VerbForm=Fin), ('por', ), ('uma', Definite=Ind|Gender=Fem|Number=Sing|PronType=Art), ('quarta', Gender=Fem|NumType=Ord|Number=Sing), ('descida', Gender=Fem|Number=Sing), ('em', ), ('vez', Gender=Fem|Number=Sing), ('de', ), ('um', Definite=Ind|Gender=Masc|Number=Sing|PronType=Art), ('field', Gender=Masc|Number=Sing), ('goal', Number=Sing), ('.', ), ('Brady', Gender=Masc|Number=Sing), ('tentou', Mood=Ind|Number=Sing|Person=3|Tense=Past|VerbForm=Fin), ('um', Definite=Ind|Gender=Masc|Number=Sing|PronType=Art), ('passe', Gender=Masc|Number=Sing), ('para', ), ('Jabar', Gender=Masc|Number=Sing), ('Gaffney', Number=Sing), (',', ), ('mas', ), ('não', Polarity=Neg), ('conseguiu', Mood=Ind|Number=Sing|Person=3|Tense=Past|VerbForm=Fin), ('completar', VerbForm=Inf), ('.', ), ('\\n\\n', ), ('O', Definite=Def|Gender=Masc|Number=Sing|PronType=Art), ('último', Gender=Masc|NumType=Ord|Number=Sing), ('período', Gender=Masc|Number=Sing), ('começou', Mood=Ind|Number=Sing|Person=3|Tense=Past|VerbForm=Fin), ('arrasador', Gender=Masc|Number=Sing), ('para', ), ('os', Definite=Def|Gender=Masc|Number=Plur|PronType=Art), ('Giants', Gender=Masc|Number=Plur), ('.', ), ('na', Definite=Def|Gender=Fem|Number=Sing|PronType=Art), ('primeira', Gender=Fem|NumType=Ord|Number=Sing), ('jogada', Gender=Fem|Number=Sing), (',', ), ('Manning', Gender=Masc|Number=Sing), ('achou', Mood=Ind|Number=Sing|Person=3|Tense=Past|VerbForm=Fin), ('o', Definite=Def|Gender=Masc|Number=Sing|PronType=Art), ('tight', Gender=Masc|Number=Sing), ('end', ), ('Kevin', Gender=Masc|Number=Sing), ('Boss', Number=Sing), (',', ), ('para', ), ('um', Definite=Ind|Gender=Masc|Number=Sing|PronType=Art), ('incrível', Gender=Masc|Number=Sing), ('avanço', Gender=Masc|Number=Sing), ('de', ), ('45', NumType=Card), ('jardas', Gender=Fem|Number=Plur), (',', ), ('que', Gender=Masc|Number=Sing|PronType=Rel), ('deixou', Mood=Ind|Number=Sing|Person=3|Tense=Past|VerbForm=Fin), ('o', Definite=Def|Gender=Masc|Number=Sing|PronType=Art), ('time', Gender=Masc|Number=Sing), ('na', Definite=Def|Gender=Fem|Number=Sing|PronType=Art), ('linha', Gender=Fem|Number=Sing), ('de', ), ('35', NumType=Card), ('dos', Definite=Def|Gender=Masc|Number=Plur|PronType=Art), ('Patriots', Gender=Masc|Number=Plur), ('.', ), ('Outro', Gender=Masc|Number=Sing|PronType=Ind), ('lançamento', Gender=Masc|Number=Sing), (',', ), ('desta', Definite=Def|Gender=Fem|Number=Sing|PronType=Art), ('vez', Gender=Fem|Number=Sing), ('para', ), ('Steve', Gender=Masc|Number=Sing), ('Smith', Number=Sing), (',', ), ('marcou', Mood=Ind|Number=Sing|Person=3|Tense=Past|VerbForm=Fin), ('o', Definite=Def|Gender=Masc|Number=Sing|PronType=Art), ('avanço', Gender=Masc|Number=Sing), ('até', ), ('a', Definite=Def|Gender=Fem|Number=Sing|PronType=Art), ('linha', Gender=Fem|Number=Sing), ('de', ), ('12', NumType=Card), ('jardas', Gender=Fem|Number=Plur), ('.', ), ('Duas', NumType=Card), ('jogadas', Gender=Fem|Number=Plur), ('depois', ), (',', ), ('David', Gender=Masc|Number=Sing), ('Tyree', Number=Sing), ('pegou', Mood=Ind|Number=Sing|Person=3|Tense=Past|VerbForm=Fin), ('um', Definite=Ind|Gender=Masc|Number=Sing|PronType=Art), ('passe', Gender=Masc|Number=Sing), ('de', ), ('cinco', NumType=Card), ('jardas', Gender=Fem|Number=Plur), ('na', Definite=Def|Gender=Fem|Number=Sing|PronType=Art), ('end', ), ('zone', ), ('para', ), ('anotar', VerbForm=Inf), ('o', Definite=Def|Gender=Masc|Number=Sing|PronType=Art), ('touchdown', Gender=Masc|Number=Sing), ('e', ), ('virar', VerbForm=Inf), ('o', Definite=Def|Gender=Masc|Number=Sing|PronType=Art), ('jogo', Gender=Masc|Number=Sing), ('.', ), ('\\n\\n', ), ('Na', Definite=Def|Gender=Fem|Number=Sing|PronType=Art), ('hora', Gender=Fem|Number=Sing), ('da', Definite=Def|Gender=Fem|Number=Sing|PronType=Art), ('decisão', Gender=Fem|Number=Sing), (',', ), ('o', Definite=Def|Gender=Masc|Number=Sing|PronType=Art), ('ataque', Gender=Masc|Number=Sing), ('dos', Definite=Def|Gender=Masc|Number=Plur|PronType=Art), ('Patriots', Number=Sing), ('voltou', Mood=Ind|Number=Sing|Person=3|Tense=Past|VerbForm=Fin), ('a', ), ('funcionar', VerbForm=Inf), ('.', ), ('Com', ), ('uma', Definite=Ind|Gender=Fem|Number=Sing|PronType=Art), ('série', Gender=Fem|Number=Sing), ('de', ), ('passes', Gender=Masc|Number=Plur), ('curtos', Gender=Masc|Number=Plur), ('e', ), ('variados', Gender=Masc|Number=Plur), (',', ), ('Brady', Gender=Masc|Number=Sing), ('achou', Mood=Ind|Number=Sing|Person=3|Tense=Past|VerbForm=Fin), ('Wes', Gender=Masc|Number=Sing), ('Welker', Number=Sing), (',', ), ('Randy', Gender=Masc|Number=Sing), ('Moss', Number=Sing), ('e', ), ('Kevin', Gender=Masc|Number=Sing), ('Faulk', Number=Sing), ('seguidas', Gender=Fem|Number=Plur|VerbForm=Part), ('vezes', Gender=Fem|Number=Plur), ('até', ), ('chegar', VerbForm=Inf), ('à', Definite=Def|Gender=Fem|Number=Sing|PronType=Art), ('red', Gender=Masc|Number=Sing), ('zone', Gender=Masc|Number=Sing), ('.', ), ('A', Definite=Def|Gender=Fem|Number=Sing|PronType=Art), ('2m45s', Gender=Fem|Number=Sing), ('do', Definite=Def|Gender=Masc|Number=Sing|PronType=Art), ('fim', Gender=Masc|Number=Sing), (',', ), ('o', Definite=Def|Gender=Masc|Number=Sing|PronType=Art), ('quarterback', Gender=Masc|Number=Sing), ('conectou', Mood=Ind|Number=Sing|Person=3|Tense=Past|VerbForm=Fin), ('mais', ), ('uma', ), ('vez', Gender=Fem|Number=Sing), ('com', ), ('Moss', Gender=Masc|Number=Sing), (',', ), ('que', Gender=Masc|Number=Sing|PronType=Rel), ('se', Case=Acc|Gender=Masc|Number=Sing|Person=3|PronType=Prs), ('desmarcou', Mood=Ind|Number=Sing|Person=3|Tense=Past|VerbForm=Fin), ('e', ), ('ficou', Mood=Ind|Number=Sing|Person=3|Tense=Past|VerbForm=Fin), ('livre', Gender=Fem|Number=Sing), ('na', Definite=Def|Gender=Fem|Number=Sing|PronType=Art), ('lateral', Gender=Fem|Number=Sing), ('direita', Gender=Fem|Number=Sing), ('da', Definite=Def|Gender=Fem|Number=Sing|PronType=Art), ('end', ), ('zone', ), ('.', ), ('\\n\\n', ), ('Quando', ), ('os', Definite=Def|Gender=Masc|Number=Plur|PronType=Art), ('fãs', Gender=Masc|Number=Plur), ('de', ), ('New', Gender=Masc|Number=Sing), ('England', Number=Sing), ('já', ), ('comemoravam', Mood=Ind|Number=Plur|Person=3|Tense=Imp|VerbForm=Fin), ('a', Definite=Def|Gender=Fem|Number=Sing|PronType=Art), ('vitória', Gender=Fem|Number=Sing), (',', ), ('o', Definite=Def|Gender=Masc|Number=Sing|PronType=Art), ('inesperado', Gender=Masc|Number=Sing), ('aconteceu', Mood=Ind|Number=Sing|Person=3|Tense=Past|VerbForm=Fin), ('.', ), ('Em', ), ('uma', Definite=Ind|Gender=Fem|Number=Sing|PronType=Art), ('jogada', Gender=Fem|Number=Sing), ('incrível', Gender=Fem|Number=Sing), (',', ), ('Eli', Gender=Masc|Number=Sing), ('Manning', Number=Sing), ('se', Case=Acc|Gender=Masc|Number=Sing|Person=3|PronType=Prs), ('soltou', Mood=Ind|Number=Sing|Person=3|Tense=Past|VerbForm=Fin), ('de', ), ('dois', NumType=Card), ('marcadores', Gender=Masc|Number=Plur), ('que', Gender=Masc|Number=Plur|PronType=Rel), ('o', Case=Acc|Gender=Masc|Number=Sing|Person=3|PronType=Prs), ('seguravam', Mood=Ind|Number=Plur|Person=3|Tense=Imp|VerbForm=Fin), ('pela', Definite=Def|Gender=Fem|Number=Sing|PronType=Art), ('camisa', Gender=Fem|Number=Sing), ('e', ), (',', ), ('na', Definite=Def|Gender=Fem|Number=Sing|PronType=Art), ('corrida', Gender=Fem|Number=Sing), (',', ), ('lançou', Mood=Ind|Number=Sing|Person=3|Tense=Past|VerbForm=Fin), ('para', ), ('Amani', Gender=Masc|Number=Sing), ('Toomer', Number=Sing), ('.', ), ('O', Definite=Def|Gender=Masc|Number=Sing|PronType=Art), ('wide', Gender=Masc|Number=Sing), ('receiver', ), (',', ), ('bem', ), ('marcado', Gender=Masc|Number=Sing|VerbForm=Part), (',', ), ('saltou', Mood=Ind|Number=Sing|Person=3|Tense=Past|VerbForm=Fin), ('e', ), ('conseguiu', Mood=Ind|Number=Sing|Person=3|Tense=Past|VerbForm=Fin), ('a', ), ('fazer', VerbForm=Inf), ('recepção', Gender=Fem|Number=Sing), ('para', ), ('um', Definite=Ind|Gender=Masc|Number=Sing|PronType=Art), ('avanço', Gender=Masc|Number=Sing), ('de', ), ('32', NumType=Card), ('jardas', Gender=Fem|Number=Plur), (',', ), ('deixando', VerbForm=Ger), ('os', Definite=Def|Gender=Masc|Number=Plur|PronType=Art), ('Giants', Gender=Masc|Number=Sing), ('na', Definite=Def|Gender=Fem|Number=Sing|PronType=Art), ('linha', Gender=Fem|Number=Sing), ('de', ), ('24', NumType=Card), ('de', ), ('New', Gender=Masc|Number=Sing), ('England', Number=Sing), ('.', ), ('\\n\\n', ), ('Quatro', NumType=Card), ('jogadas', Gender=Fem|Number=Plur), ('depois', ), (',', ), ('a', ), ('39', NumType=Card), ('segundos', Gender=Masc|Number=Plur), ('do', Definite=Def|Gender=Masc|Number=Sing|PronType=Art), ('fim', Gender=Masc|Number=Sing), (',', ), ('Manning', Gender=Masc|Number=Sing), ('achou', Mood=Ind|Number=Sing|Person=3|Tense=Past|VerbForm=Fin), ('Plaxico', Gender=Masc|Number=Sing), ('Burress', Number=Sing), ('na', Definite=Def|Gender=Fem|Number=Sing|PronType=Art), ('end', Number=Sing), ('zone', ), ('para', ), ('conseguir', VerbForm=Inf), ('o', Definite=Def|Gender=Masc|Number=Sing|PronType=Art), ('touchdown', Gender=Masc|Number=Sing), ('do', Definite=Def|Gender=Masc|Number=Sing|PronType=Art), ('título', Gender=Masc|Number=Sing), ('.', )]\n"
          ]
        }
      ]
    },
    {
      "cell_type": "markdown",
      "metadata": {
        "id": "SwLRg4YEgA8H"
      },
      "source": [
        "## Entidades Nomeadas com o Spacy"
      ]
    },
    {
      "cell_type": "code",
      "metadata": {
        "colab": {
          "base_uri": "https://localhost:8080/"
        },
        "id": "-CxxYe5MgEw6",
        "outputId": "944a4e97-b92e-4e1e-be14-e9ef066daaf0"
      },
      "source": [
        "entidades = list(doc1.ents) ## Palavras que ele reconhece como entidades nomeadas\n",
        "print(entidades)"
      ],
      "execution_count": null,
      "outputs": [
        {
          "output_type": "stream",
          "name": "stdout",
          "text": [
            "[Giants, Patriots, Super Bowl XLII\n",
            ", Azarões, New England, Eli Manning, Plaxico Burress, New York Giants, New England Patriots, Glendale, Super Bowl XLII, Super Bowl, Tom Brady, NFL, Giants, Super Bowl, Peyton Manning, Eli, NFL, Indianapolis Colts, Giants, Brandon Jacobs, Nova York, red zone, Lawrence Tynes, Eli Manning, Patriots, Laurence Maroney, Tom Brady, Patriots, Antonio Pierce, Maroney, Giants, Manning, Amani Toomer, Nova York, red zone, Patriots, Giants, Manning, Steve Smith, Ellis Hobbs, Patriots, Nova York, Giants, Nova York, Manning, Patriots, Brady, Giants, Manning, Patriots, Giants, Bill Bellichick, Brady, Jabar Gaffney, Giants, Manning, Kevin Boss, Patriots, Steve Smith, David Tyree, end zone, Patriots, Brady, Wes Welker, Randy Moss, Kevin Faulk, red zone, Moss, end zone, New England, Eli Manning, Amani Toomer, Giants, New England, Manning, Plaxico Burress, end zone]\n"
          ]
        }
      ]
    },
    {
      "cell_type": "code",
      "metadata": {
        "colab": {
          "base_uri": "https://localhost:8080/"
        },
        "id": "iDCBqSvSgy4t",
        "outputId": "f16645de-ca3f-44db-f585-ecc50f1799c7"
      },
      "source": [
        "detalhes_entidades = [(entidades,entidades.label_) for entidades in doc1.ents] # vai mostrar com detalhe cada entidade nomeada que ele achar \n",
        "print(detalhes_entidades)"
      ],
      "execution_count": null,
      "outputs": [
        {
          "output_type": "stream",
          "name": "stdout",
          "text": [
            "[(Giants, 'ORG'), (Patriots, 'MISC'), (Super Bowl XLII\n",
            ", 'ORG'), (Azarões, 'LOC'), (New England, 'LOC'), (Eli Manning, 'PER'), (Plaxico Burress, 'PER'), (New York Giants, 'ORG'), (New England Patriots, 'MISC'), (Glendale, 'LOC'), (Super Bowl XLII, 'ORG'), (Super Bowl, 'ORG'), (Tom Brady, 'PER'), (NFL, 'ORG'), (Giants, 'ORG'), (Super Bowl, 'ORG'), (Peyton Manning, 'PER'), (Eli, 'PER'), (NFL, 'ORG'), (Indianapolis Colts, 'ORG'), (Giants, 'ORG'), (Brandon Jacobs, 'PER'), (Nova York, 'LOC'), (red zone, 'ORG'), (Lawrence Tynes, 'PER'), (Eli Manning, 'PER'), (Patriots, 'MISC'), (Laurence Maroney, 'PER'), (Tom Brady, 'PER'), (Patriots, 'MISC'), (Antonio Pierce, 'PER'), (Maroney, 'PER'), (Giants, 'ORG'), (Manning, 'PER'), (Amani Toomer, 'PER'), (Nova York, 'LOC'), (red zone, 'ORG'), (Patriots, 'MISC'), (Giants, 'ORG'), (Manning, 'PER'), (Steve Smith, 'PER'), (Ellis Hobbs, 'PER'), (Patriots, 'MISC'), (Nova York, 'LOC'), (Giants, 'ORG'), (Nova York, 'LOC'), (Manning, 'PER'), (Patriots, 'MISC'), (Brady, 'PER'), (Giants, 'ORG'), (Manning, 'PER'), (Patriots, 'MISC'), (Giants, 'ORG'), (Bill Bellichick, 'PER'), (Brady, 'PER'), (Jabar Gaffney, 'PER'), (Giants, 'ORG'), (Manning, 'PER'), (Kevin Boss, 'PER'), (Patriots, 'MISC'), (Steve Smith, 'PER'), (David Tyree, 'PER'), (end zone, 'ORG'), (Patriots, 'MISC'), (Brady, 'PER'), (Wes Welker, 'PER'), (Randy Moss, 'PER'), (Kevin Faulk, 'PER'), (red zone, 'ORG'), (Moss, 'PER'), (end zone, 'ORG'), (New England, 'LOC'), (Eli Manning, 'PER'), (Amani Toomer, 'PER'), (Giants, 'ORG'), (New England, 'LOC'), (Manning, 'PER'), (Plaxico Burress, 'PER'), (end zone, 'ORG')]\n"
          ]
        }
      ]
    },
    {
      "cell_type": "code",
      "metadata": {
        "id": "sa4N94A1hPVm"
      },
      "source": [
        ""
      ],
      "execution_count": null,
      "outputs": []
    }
  ]
}